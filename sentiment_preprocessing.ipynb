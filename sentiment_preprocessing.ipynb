{
  "nbformat": 4,
  "nbformat_minor": 0,
  "metadata": {
    "colab": {
      "name": "sentiment_preprocessing.ipynb",
      "provenance": [],
      "collapsed_sections": []
    },
    "environment": {
      "name": "common-cpu.m65",
      "type": "gcloud",
      "uri": "gcr.io/deeplearning-platform-release/base-cpu:m65"
    },
    "kernelspec": {
      "display_name": "Python 3",
      "language": "python",
      "name": "python3"
    },
    "language_info": {
      "codemirror_mode": {
        "name": "ipython",
        "version": 3
      },
      "file_extension": ".py",
      "mimetype": "text/x-python",
      "name": "python",
      "nbconvert_exporter": "python",
      "pygments_lexer": "ipython3",
      "version": "3.7.10"
    }
  },
  "cells": [
    {
      "cell_type": "code",
      "metadata": {
        "colab": {
          "base_uri": "https://localhost:8080/"
        },
        "id": "sghizAyUifPT",
        "outputId": "3f34c5c5-87e6-42b8-fdb2-f4551f51caa7"
      },
      "source": [
        "!pip install -U -q preprocessor\n",
        "!pip install -U -q vaderSentiment\n",
        "!pip install -U -q nltk\n",
        "!pip install -U -q textblob\n",
        "!pip install -U -q gensim\n",
        "!pip install -U -q tqdm\n",
        "!pip install -U -q bs4\n",
        "!pip install python-Levenshtein\n",
        "!pip install -U -q plotly"
      ],
      "execution_count": 2,
      "outputs": [
        {
          "output_type": "stream",
          "text": [
            "Requirement already satisfied: python-Levenshtein in /usr/local/lib/python3.7/dist-packages (0.12.2)\n",
            "Requirement already satisfied: setuptools in /usr/local/lib/python3.7/dist-packages (from python-Levenshtein) (57.0.0)\n"
          ],
          "name": "stdout"
        }
      ]
    },
    {
      "cell_type": "code",
      "metadata": {
        "id": "mUMhHuJoiTVn",
        "colab": {
          "base_uri": "https://localhost:8080/",
          "height": 17
        },
        "outputId": "5530e7d2-f02a-4cf8-aca5-bf544359f20e"
      },
      "source": [
        "import preprocessor as p\n",
        "from textblob import TextBlob\n",
        "from vaderSentiment.vaderSentiment import SentimentIntensityAnalyzer\n",
        "import pandas as pd\n",
        "import numpy as np\n",
        "import gensim\n",
        "import re\n",
        "from tqdm import tqdm\n",
        "from bs4 import BeautifulSoup\n",
        "import matplotlib.pyplot as plt\n",
        "import plotly.offline as py\n",
        "import plotly.graph_objs as go\n",
        "import seaborn as sns\n",
        "import plotly.io as pio\n",
        "py.init_notebook_mode(connected=True)\n",
        "# Required for plotly to run on colab\n",
        "pio.renderers.default = 'colab'\n",
        "%matplotlib inline"
      ],
      "execution_count": 3,
      "outputs": [
        {
          "output_type": "display_data",
          "data": {
            "text/html": [
              "        <script type=\"text/javascript\">\n",
              "        window.PlotlyConfig = {MathJaxConfig: 'local'};\n",
              "        if (window.MathJax) {MathJax.Hub.Config({SVG: {font: \"STIX-Web\"}});}\n",
              "        if (typeof require !== 'undefined') {\n",
              "        require.undef(\"plotly\");\n",
              "        requirejs.config({\n",
              "            paths: {\n",
              "                'plotly': ['https://cdn.plot.ly/plotly-latest.min']\n",
              "            }\n",
              "        });\n",
              "        require(['plotly'], function(Plotly) {\n",
              "            window._Plotly = Plotly;\n",
              "        });\n",
              "        }\n",
              "        </script>\n",
              "        "
            ]
          },
          "metadata": {
            "tags": []
          }
        }
      ]
    },
    {
      "cell_type": "code",
      "metadata": {
        "id": "k6PSkEBqiTV7"
      },
      "source": [
        "tqdm.pandas()"
      ],
      "execution_count": 4,
      "outputs": []
    },
    {
      "cell_type": "markdown",
      "metadata": {
        "id": "OLOalG56XfUu"
      },
      "source": [
        "**Connects to your google drive**"
      ]
    },
    {
      "cell_type": "code",
      "metadata": {
        "colab": {
          "base_uri": "https://localhost:8080/"
        },
        "id": "3LORlw4_jZMn",
        "outputId": "ce54a61d-0295-4661-8909-e153f7b47844"
      },
      "source": [
        "import os\n",
        "from google.colab import drive\n",
        "drive.mount('/content/drive/')"
      ],
      "execution_count": 5,
      "outputs": [
        {
          "output_type": "stream",
          "text": [
            "Mounted at /content/drive/\n"
          ],
          "name": "stdout"
        }
      ]
    },
    {
      "cell_type": "code",
      "metadata": {
        "id": "4idljoOVrR5i"
      },
      "source": [
        "os.chdir('/content/drive/MyDrive/SparkIntern')"
      ],
      "execution_count": 6,
      "outputs": []
    },
    {
      "cell_type": "code",
      "metadata": {
        "id": "hzeJplYfiTV-"
      },
      "source": [
        "# 100,000 rows to test the processing with limited data set\n",
        "# df = pd.read_csv(\"india-news-headlines.csv\", nrows=500000)\n",
        "df = pd.read_csv(\"india-news-headlines.csv\")\n"
      ],
      "execution_count": 33,
      "outputs": []
    },
    {
      "cell_type": "code",
      "metadata": {
        "id": "9fVQBKP24vx2"
      },
      "source": [
        "# Timestamp conversion to datetime without localization\n",
        "df[\"date\"] = pd.to_datetime(df[\"publish_date\"],format='%Y%m%d', errors= \"coerce\").dt.tz_localize(None)"
      ],
      "execution_count": 34,
      "outputs": []
    },
    {
      "cell_type": "code",
      "metadata": {
        "id": "rv7M835EGP6T"
      },
      "source": [
        "start_year = pd.to_datetime('2009-01-01')\n",
        "data = df[df['date'] >= start_year]"
      ],
      "execution_count": 41,
      "outputs": []
    },
    {
      "cell_type": "code",
      "metadata": {
        "colab": {
          "base_uri": "https://localhost:8080/",
          "height": 204
        },
        "id": "C3MFHHV1jvxq",
        "outputId": "65a9c4be-6f42-4ab2-b616-3f541f0a464f"
      },
      "source": [
        "data.head(5)"
      ],
      "execution_count": 42,
      "outputs": [
        {
          "output_type": "execute_result",
          "data": {
            "text/html": [
              "<div>\n",
              "<style scoped>\n",
              "    .dataframe tbody tr th:only-of-type {\n",
              "        vertical-align: middle;\n",
              "    }\n",
              "\n",
              "    .dataframe tbody tr th {\n",
              "        vertical-align: top;\n",
              "    }\n",
              "\n",
              "    .dataframe thead th {\n",
              "        text-align: right;\n",
              "    }\n",
              "</style>\n",
              "<table border=\"1\" class=\"dataframe\">\n",
              "  <thead>\n",
              "    <tr style=\"text-align: right;\">\n",
              "      <th></th>\n",
              "      <th>publish_date</th>\n",
              "      <th>headline_category</th>\n",
              "      <th>headline_text</th>\n",
              "      <th>date</th>\n",
              "    </tr>\n",
              "  </thead>\n",
              "  <tbody>\n",
              "    <tr>\n",
              "      <th>664738</th>\n",
              "      <td>20090101</td>\n",
              "      <td>unknown</td>\n",
              "      <td>Sterling performance for your eyes only</td>\n",
              "      <td>2009-01-01</td>\n",
              "    </tr>\n",
              "    <tr>\n",
              "      <th>664739</th>\n",
              "      <td>20090101</td>\n",
              "      <td>life-style.health-fitness.health-news</td>\n",
              "      <td>Six common medical myths debunked</td>\n",
              "      <td>2009-01-01</td>\n",
              "    </tr>\n",
              "    <tr>\n",
              "      <th>664740</th>\n",
              "      <td>20090101</td>\n",
              "      <td>life-style.health-fitness.health-news</td>\n",
              "      <td>Tired? Saunter amid greens</td>\n",
              "      <td>2009-01-01</td>\n",
              "    </tr>\n",
              "    <tr>\n",
              "      <th>664741</th>\n",
              "      <td>20090101</td>\n",
              "      <td>life-style.fashion.shows</td>\n",
              "      <td>No New Years bash for Krishna</td>\n",
              "      <td>2009-01-01</td>\n",
              "    </tr>\n",
              "    <tr>\n",
              "      <th>664742</th>\n",
              "      <td>20090101</td>\n",
              "      <td>city.ahmedabad</td>\n",
              "      <td>Second-year arts student finds a way to beat t...</td>\n",
              "      <td>2009-01-01</td>\n",
              "    </tr>\n",
              "  </tbody>\n",
              "</table>\n",
              "</div>"
            ],
            "text/plain": [
              "        publish_date  ...       date\n",
              "664738      20090101  ... 2009-01-01\n",
              "664739      20090101  ... 2009-01-01\n",
              "664740      20090101  ... 2009-01-01\n",
              "664741      20090101  ... 2009-01-01\n",
              "664742      20090101  ... 2009-01-01\n",
              "\n",
              "[5 rows x 4 columns]"
            ]
          },
          "metadata": {
            "tags": []
          },
          "execution_count": 42
        }
      ]
    },
    {
      "cell_type": "code",
      "metadata": {
        "colab": {
          "base_uri": "https://localhost:8080/"
        },
        "id": "DG4gHnu8J8Nd",
        "outputId": "dd08ee1c-175e-45d4-8233-aad3d0174719"
      },
      "source": [
        "data.shape"
      ],
      "execution_count": 43,
      "outputs": [
        {
          "output_type": "execute_result",
          "data": {
            "text/plain": [
              "(2759329, 4)"
            ]
          },
          "metadata": {
            "tags": []
          },
          "execution_count": 43
        }
      ]
    },
    {
      "cell_type": "markdown",
      "metadata": {
        "id": "7ZUDCZN2iTWA"
      },
      "source": [
        "**Clean function using a combination of re and preprocessor**"
      ]
    },
    {
      "cell_type": "code",
      "metadata": {
        "colab": {
          "base_uri": "https://localhost:8080/",
          "height": 264
        },
        "id": "W8T1nGrZiTWC",
        "outputId": "a1b5fccc-8f57-4c70-d1ce-d59474ba4a83"
      },
      "source": [
        "def cleaning(text):\n",
        "    cleantext = p.clean(text)\n",
        "    cleantext = re.sub('[^a-zA-Z ]','',cleantext)\n",
        "    return cleantext\n",
        "def clean(data):\n",
        "    #cleanr = re.compile(\"<.*?>\")\n",
        "    cleanr= re.sub(r\"http\\S+\", \"\", data)\n",
        "    \n",
        "    cleanr= re.sub(r\"pic.\\S+\", \"\", cleanr)\n",
        "    #cleanr= re.sub(cleanr, \"\", data)\n",
        "    #cleantext = re.sub(cleanr,'',data)\n",
        "    cleantext = re.sub('[^a-zA-Z# ]','',cleanr)\n",
        "    clean_hash = re.sub(r\"#\\S+\",\"\",cleantext)\n",
        "    \n",
        "    return clean_hash\n",
        "data[\"text\"] = data.progress_apply(lambda x:clean(str(x[\"headline_text\"])),axis=1)\n",
        "\n",
        "data.head(2)"
      ],
      "execution_count": 44,
      "outputs": [
        {
          "output_type": "stream",
          "text": [
            "100%|██████████| 2759329/2759329 [01:01<00:00, 44900.52it/s]\n",
            "/usr/local/lib/python3.7/dist-packages/ipykernel_launcher.py:16: SettingWithCopyWarning:\n",
            "\n",
            "\n",
            "A value is trying to be set on a copy of a slice from a DataFrame.\n",
            "Try using .loc[row_indexer,col_indexer] = value instead\n",
            "\n",
            "See the caveats in the documentation: https://pandas.pydata.org/pandas-docs/stable/user_guide/indexing.html#returning-a-view-versus-a-copy\n",
            "\n"
          ],
          "name": "stderr"
        },
        {
          "output_type": "execute_result",
          "data": {
            "text/html": [
              "<div>\n",
              "<style scoped>\n",
              "    .dataframe tbody tr th:only-of-type {\n",
              "        vertical-align: middle;\n",
              "    }\n",
              "\n",
              "    .dataframe tbody tr th {\n",
              "        vertical-align: top;\n",
              "    }\n",
              "\n",
              "    .dataframe thead th {\n",
              "        text-align: right;\n",
              "    }\n",
              "</style>\n",
              "<table border=\"1\" class=\"dataframe\">\n",
              "  <thead>\n",
              "    <tr style=\"text-align: right;\">\n",
              "      <th></th>\n",
              "      <th>publish_date</th>\n",
              "      <th>headline_category</th>\n",
              "      <th>headline_text</th>\n",
              "      <th>date</th>\n",
              "      <th>text</th>\n",
              "    </tr>\n",
              "  </thead>\n",
              "  <tbody>\n",
              "    <tr>\n",
              "      <th>664738</th>\n",
              "      <td>20090101</td>\n",
              "      <td>unknown</td>\n",
              "      <td>Sterling performance for your eyes only</td>\n",
              "      <td>2009-01-01</td>\n",
              "      <td>Sterling performance for your eyes only</td>\n",
              "    </tr>\n",
              "    <tr>\n",
              "      <th>664739</th>\n",
              "      <td>20090101</td>\n",
              "      <td>life-style.health-fitness.health-news</td>\n",
              "      <td>Six common medical myths debunked</td>\n",
              "      <td>2009-01-01</td>\n",
              "      <td>Six common medical myths debunked</td>\n",
              "    </tr>\n",
              "  </tbody>\n",
              "</table>\n",
              "</div>"
            ],
            "text/plain": [
              "        publish_date  ...                                     text\n",
              "664738      20090101  ...  Sterling performance for your eyes only\n",
              "664739      20090101  ...        Six common medical myths debunked\n",
              "\n",
              "[2 rows x 5 columns]"
            ]
          },
          "metadata": {
            "tags": []
          },
          "execution_count": 44
        }
      ]
    },
    {
      "cell_type": "markdown",
      "metadata": {
        "id": "3tONzbR0iTWG"
      },
      "source": [
        "**Tokenize and Stem and then join the text**"
      ]
    },
    {
      "cell_type": "code",
      "metadata": {
        "colab": {
          "base_uri": "https://localhost:8080/"
        },
        "id": "H5DOlhYZiTWH",
        "outputId": "17011a93-332c-4283-e352-657ef7a2d0dc"
      },
      "source": [
        "from nltk.tokenize import sent_tokenize, word_tokenize\n",
        "from nltk.stem import PorterStemmer\n",
        "from nltk.corpus import stopwords\n",
        "import nltk\n",
        "nltk.download('punkt')\n",
        "nltk.download('stopwords')\n",
        "stopwords = nltk.corpus.stopwords.words('english')\n",
        "porter = PorterStemmer()\n",
        "\n",
        "def stemSentence(sentence):\n",
        "    #Tokenize words list\n",
        "    tokens = [word.lower() for sent in nltk.sent_tokenize(sentence) for word in nltk.word_tokenize(sent)]\n",
        "    stem_sentence=[]\n",
        "    # Create list of word tokens after removing the stopwords\n",
        "    filtered_sentence =[] \n",
        "    for word in tokens:\n",
        "      if word not in stopwords:\n",
        "        stem_sentence.append(porter.stem(word))\n",
        "        stem_sentence.append(\" \")\n",
        "    return \"\".join(stem_sentence)"
      ],
      "execution_count": 45,
      "outputs": [
        {
          "output_type": "stream",
          "text": [
            "[nltk_data] Downloading package punkt to /root/nltk_data...\n",
            "[nltk_data]   Package punkt is already up-to-date!\n",
            "[nltk_data] Downloading package stopwords to /root/nltk_data...\n",
            "[nltk_data]   Package stopwords is already up-to-date!\n"
          ],
          "name": "stderr"
        }
      ]
    },
    {
      "cell_type": "markdown",
      "metadata": {
        "id": "vOQgT3RdiTWJ"
      },
      "source": [
        "**TextBlob functions to calculate Sentiment scores**"
      ]
    },
    {
      "cell_type": "code",
      "metadata": {
        "id": "9pHW86FLiTWL",
        "colab": {
          "base_uri": "https://localhost:8080/"
        },
        "outputId": "5ff31c09-d080-491a-da59-0bbd3a0dc723"
      },
      "source": [
        "data[\"subjectivity\"] = np.zeros((data.shape[0],1))\n",
        "data[\"blob_sent\"] = np.zeros((data.shape[0],1))\n",
        "def textblob_sent(text):\n",
        "    text = stemSentence(text)\n",
        "    analysis = TextBlob(str(text))\n",
        "    return analysis.sentiment[0]\n",
        "def textblob_sub(text):\n",
        "    text = stemSentence(text)\n",
        "    analysis = TextBlob(str(text))\n",
        "    return analysis.sentiment[1]"
      ],
      "execution_count": 46,
      "outputs": [
        {
          "output_type": "stream",
          "text": [
            "/usr/local/lib/python3.7/dist-packages/ipykernel_launcher.py:1: SettingWithCopyWarning:\n",
            "\n",
            "\n",
            "A value is trying to be set on a copy of a slice from a DataFrame.\n",
            "Try using .loc[row_indexer,col_indexer] = value instead\n",
            "\n",
            "See the caveats in the documentation: https://pandas.pydata.org/pandas-docs/stable/user_guide/indexing.html#returning-a-view-versus-a-copy\n",
            "\n",
            "/usr/local/lib/python3.7/dist-packages/ipykernel_launcher.py:2: SettingWithCopyWarning:\n",
            "\n",
            "\n",
            "A value is trying to be set on a copy of a slice from a DataFrame.\n",
            "Try using .loc[row_indexer,col_indexer] = value instead\n",
            "\n",
            "See the caveats in the documentation: https://pandas.pydata.org/pandas-docs/stable/user_guide/indexing.html#returning-a-view-versus-a-copy\n",
            "\n"
          ],
          "name": "stderr"
        }
      ]
    },
    {
      "cell_type": "markdown",
      "metadata": {
        "id": "cs6OKqIoYhRz"
      },
      "source": [
        "**Calculating blob sentiment for every tweet**"
      ]
    },
    {
      "cell_type": "code",
      "metadata": {
        "id": "upnDfWfFiTWS",
        "colab": {
          "base_uri": "https://localhost:8080/"
        },
        "outputId": "7d9d96cf-85bf-4d2b-fdf5-6354e5cd9944"
      },
      "source": [
        "data[\"blob_sent\"] = data.progress_apply(lambda x:textblob_sent(str(x[\"text\"])),axis=1)"
      ],
      "execution_count": 47,
      "outputs": [
        {
          "output_type": "stream",
          "text": [
            "100%|██████████| 2759329/2759329 [29:19<00:00, 1568.27it/s]\n",
            "/usr/local/lib/python3.7/dist-packages/ipykernel_launcher.py:1: SettingWithCopyWarning:\n",
            "\n",
            "\n",
            "A value is trying to be set on a copy of a slice from a DataFrame.\n",
            "Try using .loc[row_indexer,col_indexer] = value instead\n",
            "\n",
            "See the caveats in the documentation: https://pandas.pydata.org/pandas-docs/stable/user_guide/indexing.html#returning-a-view-versus-a-copy\n",
            "\n"
          ],
          "name": "stderr"
        }
      ]
    },
    {
      "cell_type": "markdown",
      "metadata": {
        "id": "z7osHlR3YrwF"
      },
      "source": [
        "**Save the results to save time for processing again**"
      ]
    },
    {
      "cell_type": "code",
      "metadata": {
        "colab": {
          "base_uri": "https://localhost:8080/",
          "height": 111
        },
        "id": "lqwvEifBYlfR",
        "outputId": "0c80efc7-77c3-46d5-f523-b155c58a551b"
      },
      "source": [
        "# data.to_csv(\"blob_sent_recorded_1L.csv\")\n",
        "data.head(2)"
      ],
      "execution_count": 48,
      "outputs": [
        {
          "output_type": "execute_result",
          "data": {
            "text/html": [
              "<div>\n",
              "<style scoped>\n",
              "    .dataframe tbody tr th:only-of-type {\n",
              "        vertical-align: middle;\n",
              "    }\n",
              "\n",
              "    .dataframe tbody tr th {\n",
              "        vertical-align: top;\n",
              "    }\n",
              "\n",
              "    .dataframe thead th {\n",
              "        text-align: right;\n",
              "    }\n",
              "</style>\n",
              "<table border=\"1\" class=\"dataframe\">\n",
              "  <thead>\n",
              "    <tr style=\"text-align: right;\">\n",
              "      <th></th>\n",
              "      <th>publish_date</th>\n",
              "      <th>headline_category</th>\n",
              "      <th>headline_text</th>\n",
              "      <th>date</th>\n",
              "      <th>text</th>\n",
              "      <th>subjectivity</th>\n",
              "      <th>blob_sent</th>\n",
              "    </tr>\n",
              "  </thead>\n",
              "  <tbody>\n",
              "    <tr>\n",
              "      <th>664738</th>\n",
              "      <td>20090101</td>\n",
              "      <td>unknown</td>\n",
              "      <td>Sterling performance for your eyes only</td>\n",
              "      <td>2009-01-01</td>\n",
              "      <td>Sterling performance for your eyes only</td>\n",
              "      <td>0.0</td>\n",
              "      <td>0.0</td>\n",
              "    </tr>\n",
              "    <tr>\n",
              "      <th>664739</th>\n",
              "      <td>20090101</td>\n",
              "      <td>life-style.health-fitness.health-news</td>\n",
              "      <td>Six common medical myths debunked</td>\n",
              "      <td>2009-01-01</td>\n",
              "      <td>Six common medical myths debunked</td>\n",
              "      <td>0.0</td>\n",
              "      <td>-0.3</td>\n",
              "    </tr>\n",
              "  </tbody>\n",
              "</table>\n",
              "</div>"
            ],
            "text/plain": [
              "        publish_date  ... blob_sent\n",
              "664738      20090101  ...       0.0\n",
              "664739      20090101  ...      -0.3\n",
              "\n",
              "[2 rows x 7 columns]"
            ]
          },
          "metadata": {
            "tags": []
          },
          "execution_count": 48
        }
      ]
    },
    {
      "cell_type": "markdown",
      "metadata": {
        "id": "-90gZVyVY2_m"
      },
      "source": [
        "**Subjectivity calculation for each tweet**"
      ]
    },
    {
      "cell_type": "code",
      "metadata": {
        "id": "yXynXN6ZUDdJ",
        "colab": {
          "base_uri": "https://localhost:8080/"
        },
        "outputId": "fa518908-6f38-4d3c-e45e-359eb28a79af"
      },
      "source": [
        "data[\"subjectivity\"] = data.progress_apply(lambda x:textblob_sub(x[\"text\"]),axis=1)\n",
        "# data.to_csv(\"subjectivity_recorded_1L.csv\")\n"
      ],
      "execution_count": 49,
      "outputs": [
        {
          "output_type": "stream",
          "text": [
            "100%|██████████| 2759329/2759329 [29:21<00:00, 1566.14it/s]\n",
            "/usr/local/lib/python3.7/dist-packages/ipykernel_launcher.py:1: SettingWithCopyWarning:\n",
            "\n",
            "\n",
            "A value is trying to be set on a copy of a slice from a DataFrame.\n",
            "Try using .loc[row_indexer,col_indexer] = value instead\n",
            "\n",
            "See the caveats in the documentation: https://pandas.pydata.org/pandas-docs/stable/user_guide/indexing.html#returning-a-view-versus-a-copy\n",
            "\n"
          ],
          "name": "stderr"
        }
      ]
    },
    {
      "cell_type": "code",
      "metadata": {
        "colab": {
          "base_uri": "https://localhost:8080/"
        },
        "id": "EydYHBLsYlfS",
        "outputId": "f18759ed-813d-4dbc-b7bf-766afaa35219"
      },
      "source": [
        "data.shape"
      ],
      "execution_count": null,
      "outputs": [
        {
          "output_type": "execute_result",
          "data": {
            "text/plain": [
              "(121460, 8)"
            ]
          },
          "metadata": {
            "tags": []
          },
          "execution_count": 148
        }
      ]
    },
    {
      "cell_type": "markdown",
      "metadata": {
        "id": "JWNX1QPuZBI7"
      },
      "source": [
        "**Drop rows with zero sentiment and sbjectivity**"
      ]
    },
    {
      "cell_type": "code",
      "metadata": {
        "id": "OpNVtSSKYlfU",
        "colab": {
          "base_uri": "https://localhost:8080/"
        },
        "outputId": "788eb094-a4d0-4d11-f2c2-a0f2468a16c3"
      },
      "source": [
        "index_names = data[ (data['subjectivity'] == 0.0) & (data['blob_sent'] == 0.000000)].index\n",
        "  \n",
        "# drop these given row indexes from dataFrame\n",
        "data.drop(index_names, inplace = True)  "
      ],
      "execution_count": 50,
      "outputs": [
        {
          "output_type": "stream",
          "text": [
            "/usr/local/lib/python3.7/dist-packages/pandas/core/frame.py:4174: SettingWithCopyWarning:\n",
            "\n",
            "\n",
            "A value is trying to be set on a copy of a slice from a DataFrame\n",
            "\n",
            "See the caveats in the documentation: https://pandas.pydata.org/pandas-docs/stable/user_guide/indexing.html#returning-a-view-versus-a-copy\n",
            "\n"
          ],
          "name": "stderr"
        }
      ]
    },
    {
      "cell_type": "code",
      "metadata": {
        "colab": {
          "base_uri": "https://localhost:8080/"
        },
        "id": "JjN31x7uYlfV",
        "outputId": "a6ba1472-421e-4f60-ac50-e57b3c19a47f"
      },
      "source": [
        "data.shape"
      ],
      "execution_count": 51,
      "outputs": [
        {
          "output_type": "execute_result",
          "data": {
            "text/plain": [
              "(792169, 7)"
            ]
          },
          "metadata": {
            "tags": []
          },
          "execution_count": 51
        }
      ]
    },
    {
      "cell_type": "markdown",
      "metadata": {
        "id": "nfAJx0ctiTWT"
      },
      "source": [
        "**Vader sentiment**"
      ]
    },
    {
      "cell_type": "code",
      "metadata": {
        "id": "o1jFJvzOiTWU"
      },
      "source": [
        "sid = SentimentIntensityAnalyzer()\n",
        "def vader(text):\n",
        "    score = sid.polarity_scores(text)\n",
        "    return score[\"compound\"]\n"
      ],
      "execution_count": 52,
      "outputs": []
    },
    {
      "cell_type": "markdown",
      "metadata": {
        "id": "btmVb56xZOVu"
      },
      "source": [
        "**VADER sentiment calculation**"
      ]
    },
    {
      "cell_type": "code",
      "metadata": {
        "id": "uZj5dLjFiTWU",
        "colab": {
          "base_uri": "https://localhost:8080/",
          "height": 298
        },
        "outputId": "1fcaa559-8e4a-4d92-8475-49c8ce99c6d6"
      },
      "source": [
        "data[\"vader_sent\"] = data.progress_apply(lambda x:vader(str(x[\"text\"])),axis=1)\n",
        "data.head(2)"
      ],
      "execution_count": 54,
      "outputs": [
        {
          "output_type": "stream",
          "text": [
            "100%|██████████| 792169/792169 [01:15<00:00, 10437.83it/s]\n",
            "/usr/local/lib/python3.7/dist-packages/ipykernel_launcher.py:1: SettingWithCopyWarning:\n",
            "\n",
            "\n",
            "A value is trying to be set on a copy of a slice from a DataFrame.\n",
            "Try using .loc[row_indexer,col_indexer] = value instead\n",
            "\n",
            "See the caveats in the documentation: https://pandas.pydata.org/pandas-docs/stable/user_guide/indexing.html#returning-a-view-versus-a-copy\n",
            "\n"
          ],
          "name": "stderr"
        },
        {
          "output_type": "execute_result",
          "data": {
            "text/html": [
              "<div>\n",
              "<style scoped>\n",
              "    .dataframe tbody tr th:only-of-type {\n",
              "        vertical-align: middle;\n",
              "    }\n",
              "\n",
              "    .dataframe tbody tr th {\n",
              "        vertical-align: top;\n",
              "    }\n",
              "\n",
              "    .dataframe thead th {\n",
              "        text-align: right;\n",
              "    }\n",
              "</style>\n",
              "<table border=\"1\" class=\"dataframe\">\n",
              "  <thead>\n",
              "    <tr style=\"text-align: right;\">\n",
              "      <th></th>\n",
              "      <th>publish_date</th>\n",
              "      <th>headline_category</th>\n",
              "      <th>headline_text</th>\n",
              "      <th>date</th>\n",
              "      <th>text</th>\n",
              "      <th>subjectivity</th>\n",
              "      <th>blob_sent</th>\n",
              "      <th>vader_sent</th>\n",
              "    </tr>\n",
              "  </thead>\n",
              "  <tbody>\n",
              "    <tr>\n",
              "      <th>664739</th>\n",
              "      <td>20090101</td>\n",
              "      <td>life-style.health-fitness.health-news</td>\n",
              "      <td>Six common medical myths debunked</td>\n",
              "      <td>2009-01-01</td>\n",
              "      <td>Six common medical myths debunked</td>\n",
              "      <td>0.5</td>\n",
              "      <td>-0.3</td>\n",
              "      <td>0.0000</td>\n",
              "    </tr>\n",
              "    <tr>\n",
              "      <th>664740</th>\n",
              "      <td>20090101</td>\n",
              "      <td>life-style.health-fitness.health-news</td>\n",
              "      <td>Tired? Saunter amid greens</td>\n",
              "      <td>2009-01-01</td>\n",
              "      <td>Tired Saunter amid greens</td>\n",
              "      <td>0.3</td>\n",
              "      <td>-0.2</td>\n",
              "      <td>-0.4404</td>\n",
              "    </tr>\n",
              "  </tbody>\n",
              "</table>\n",
              "</div>"
            ],
            "text/plain": [
              "        publish_date  ... vader_sent\n",
              "664739      20090101  ...     0.0000\n",
              "664740      20090101  ...    -0.4404\n",
              "\n",
              "[2 rows x 8 columns]"
            ]
          },
          "metadata": {
            "tags": []
          },
          "execution_count": 54
        }
      ]
    },
    {
      "cell_type": "markdown",
      "metadata": {
        "id": "Ap0rx-f6ZYxZ"
      },
      "source": [
        "**Weight corresponding to adwords are calculated here**"
      ]
    },
    {
      "cell_type": "code",
      "metadata": {
        "id": "hLJZAdGXiTWV"
      },
      "source": [
        "adwords = [\"give\",\"referral\",\"referal\",\"bonus\",\"signup\",\"invite\",\"freebitcoin\",\"lucky\",\n",
        "          \"lottery\",\"giveaway\",\"coupon\",\"prizes\",\"enter\",\"airdrop\",\"game\",\"contest\",\"bonuses\"]\n",
        "def contains_word(s, w):\n",
        "    return (' ' + w + ' ') in (' ' + s + ' ')\n",
        "def adchecker(text):\n",
        "    words = []\n",
        "    count = 0\n",
        "    for i in adwords:\n",
        "        if (contains_word(text,i)):\n",
        "            count+= 1\n",
        "            words.append(i)\n",
        "    return count\n",
        "def adword(text):\n",
        "    words = []\n",
        "    count = 0\n",
        "    for i in adwords:\n",
        "        if (contains_word(text,i)):\n",
        "            count+= 1\n",
        "            words.append(i)\n",
        "    return words"
      ],
      "execution_count": 55,
      "outputs": []
    },
    {
      "cell_type": "markdown",
      "metadata": {
        "id": "udx6B0LDZj2h"
      },
      "source": [
        "**Computation of adwords weight**"
      ]
    },
    {
      "cell_type": "code",
      "metadata": {
        "colab": {
          "base_uri": "https://localhost:8080/"
        },
        "id": "HEBFr3GyiTWW",
        "outputId": "eb9dd9dc-46b4-4219-9f3f-46923c129121"
      },
      "source": [
        "data[\"ad_count\"] = np.zeros((data.shape[0],1))\n",
        "data[\"adwords\"] = np.zeros((data.shape[0],1))\n",
        "\n",
        "data[\"ad_count\"] = data.progress_apply(lambda x:adchecker(x[\"text\"]),axis=1)\n",
        "data[\"adwords\"] = data.progress_apply(lambda x:adword(x[\"text\"]),axis=1)\n",
        "\n",
        "# data.to_csv(\"clean100.csv\")\n"
      ],
      "execution_count": 56,
      "outputs": [
        {
          "output_type": "stream",
          "text": [
            "/usr/local/lib/python3.7/dist-packages/ipykernel_launcher.py:1: SettingWithCopyWarning:\n",
            "\n",
            "\n",
            "A value is trying to be set on a copy of a slice from a DataFrame.\n",
            "Try using .loc[row_indexer,col_indexer] = value instead\n",
            "\n",
            "See the caveats in the documentation: https://pandas.pydata.org/pandas-docs/stable/user_guide/indexing.html#returning-a-view-versus-a-copy\n",
            "\n",
            "/usr/local/lib/python3.7/dist-packages/ipykernel_launcher.py:2: SettingWithCopyWarning:\n",
            "\n",
            "\n",
            "A value is trying to be set on a copy of a slice from a DataFrame.\n",
            "Try using .loc[row_indexer,col_indexer] = value instead\n",
            "\n",
            "See the caveats in the documentation: https://pandas.pydata.org/pandas-docs/stable/user_guide/indexing.html#returning-a-view-versus-a-copy\n",
            "\n",
            "100%|██████████| 792169/792169 [00:19<00:00, 40189.59it/s]\n",
            "/usr/local/lib/python3.7/dist-packages/ipykernel_launcher.py:4: SettingWithCopyWarning:\n",
            "\n",
            "\n",
            "A value is trying to be set on a copy of a slice from a DataFrame.\n",
            "Try using .loc[row_indexer,col_indexer] = value instead\n",
            "\n",
            "See the caveats in the documentation: https://pandas.pydata.org/pandas-docs/stable/user_guide/indexing.html#returning-a-view-versus-a-copy\n",
            "\n",
            "100%|██████████| 792169/792169 [00:20<00:00, 38401.36it/s]\n",
            "/usr/local/lib/python3.7/dist-packages/ipykernel_launcher.py:5: SettingWithCopyWarning:\n",
            "\n",
            "\n",
            "A value is trying to be set on a copy of a slice from a DataFrame.\n",
            "Try using .loc[row_indexer,col_indexer] = value instead\n",
            "\n",
            "See the caveats in the documentation: https://pandas.pydata.org/pandas-docs/stable/user_guide/indexing.html#returning-a-view-versus-a-copy\n",
            "\n"
          ],
          "name": "stderr"
        }
      ]
    },
    {
      "cell_type": "markdown",
      "metadata": {
        "id": "OiY0Dfm3Zt4H"
      },
      "source": [
        "**Classifies whether a tweet is an ad or not**"
      ]
    },
    {
      "cell_type": "code",
      "metadata": {
        "colab": {
          "base_uri": "https://localhost:8080/"
        },
        "id": "_y91n4ZPiTWW",
        "outputId": "7139b518-1adf-42a2-dc69-78ae9b4f7551"
      },
      "source": [
        "def ad_classifier(x):\n",
        "    try:\n",
        "        if x >1 :\n",
        "            return 0\n",
        "        else:\n",
        "            return 1\n",
        "    except:\n",
        "        print(x)\n",
        "\n",
        "data[\"ad_class\"] = data.progress_apply(lambda x:ad_classifier(int(x[\"ad_count\"])),axis=1)"
      ],
      "execution_count": 57,
      "outputs": [
        {
          "output_type": "stream",
          "text": [
            "100%|██████████| 792169/792169 [00:11<00:00, 66360.79it/s] \n",
            "/usr/local/lib/python3.7/dist-packages/ipykernel_launcher.py:10: SettingWithCopyWarning:\n",
            "\n",
            "\n",
            "A value is trying to be set on a copy of a slice from a DataFrame.\n",
            "Try using .loc[row_indexer,col_indexer] = value instead\n",
            "\n",
            "See the caveats in the documentation: https://pandas.pydata.org/pandas-docs/stable/user_guide/indexing.html#returning-a-view-versus-a-copy\n",
            "\n"
          ],
          "name": "stderr"
        }
      ]
    },
    {
      "cell_type": "markdown",
      "metadata": {
        "id": "zBuVwcw-Z3HV"
      },
      "source": [
        "**Checking counts**"
      ]
    },
    {
      "cell_type": "code",
      "metadata": {
        "colab": {
          "base_uri": "https://localhost:8080/"
        },
        "id": "VGN6TWXL3rFS",
        "outputId": "f229cae0-f807-44fa-8b41-21612f82a137"
      },
      "source": [
        "data.astype({'ad_count': 'float64'}).dtypes\n",
        "#nlarg = data.nlargest(30,\"ad_count\")\n",
        "count = data[\"ad_class\"].value_counts()\n",
        "print(count)"
      ],
      "execution_count": 58,
      "outputs": [
        {
          "output_type": "stream",
          "text": [
            "1    792144\n",
            "0        25\n",
            "Name: ad_class, dtype: int64\n"
          ],
          "name": "stdout"
        }
      ]
    },
    {
      "cell_type": "markdown",
      "metadata": {
        "id": "lGk7HMtPaFpM"
      },
      "source": [
        "**Weightage with keywords**"
      ]
    },
    {
      "cell_type": "code",
      "metadata": {
        "colab": {
          "base_uri": "https://localhost:8080/"
        },
        "id": "lYdaY3di31Cl",
        "outputId": "f1de89b9-9a68-4a70-a714-3b5abccd10b2"
      },
      "source": [
        "keywords = ['onchain transaction', 'congestion', 'market cap','market cap drop', 'dispersion of returns', 'downturn', 'exchange volume', 'ATH', 'ath', 'atl', 'ATL',\n",
        "            'bear trap', 'btfd', 'BTFD', 'buy wall', 'deflation', 'dump', 'fomo', 'FOMO', 'mooning', 'whale']\n",
        "def keychecker(text):\n",
        "    words = []\n",
        "    count = 0\n",
        "    for i in keywords:\n",
        "        if (contains_word(str(text),i)):\n",
        "            count+= 1\n",
        "            words.append(i)\n",
        "    return count\n",
        "def keyword(text):\n",
        "    words = []\n",
        "    count = 0\n",
        "    for i in keywords:\n",
        "        if (contains_word(str(text),i)):\n",
        "            count+= 1\n",
        "            words.append(i)\n",
        "    return words\n",
        "def contains_word(s, w):\n",
        "    return (' ' + w + ' ') in (' ' + s + ' ')\n",
        "\n",
        "data[\"key_count\"] = data.progress_apply(lambda x:keychecker(x[\"text\"]),axis=1)\n",
        "data[\"keywords\"] = data.progress_apply(lambda x:keyword(x[\"text\"]),axis=1)\n"
      ],
      "execution_count": 59,
      "outputs": [
        {
          "output_type": "stream",
          "text": [
            "100%|██████████| 792169/792169 [00:24<00:00, 32867.75it/s]\n",
            "/usr/local/lib/python3.7/dist-packages/ipykernel_launcher.py:22: SettingWithCopyWarning:\n",
            "\n",
            "\n",
            "A value is trying to be set on a copy of a slice from a DataFrame.\n",
            "Try using .loc[row_indexer,col_indexer] = value instead\n",
            "\n",
            "See the caveats in the documentation: https://pandas.pydata.org/pandas-docs/stable/user_guide/indexing.html#returning-a-view-versus-a-copy\n",
            "\n",
            "100%|██████████| 792169/792169 [00:24<00:00, 32076.76it/s]\n",
            "/usr/local/lib/python3.7/dist-packages/ipykernel_launcher.py:23: SettingWithCopyWarning:\n",
            "\n",
            "\n",
            "A value is trying to be set on a copy of a slice from a DataFrame.\n",
            "Try using .loc[row_indexer,col_indexer] = value instead\n",
            "\n",
            "See the caveats in the documentation: https://pandas.pydata.org/pandas-docs/stable/user_guide/indexing.html#returning-a-view-versus-a-copy\n",
            "\n"
          ],
          "name": "stderr"
        }
      ]
    },
    {
      "cell_type": "code",
      "metadata": {
        "colab": {
          "base_uri": "https://localhost:8080/",
          "height": 425
        },
        "id": "Wd1wQ2qP4Bop",
        "outputId": "2e2a20ea-8f16-42bf-a976-cd89e091b991"
      },
      "source": [
        "promu = data.nlargest(5,\"key_count\")\n",
        "promu"
      ],
      "execution_count": 60,
      "outputs": [
        {
          "output_type": "execute_result",
          "data": {
            "text/html": [
              "<div>\n",
              "<style scoped>\n",
              "    .dataframe tbody tr th:only-of-type {\n",
              "        vertical-align: middle;\n",
              "    }\n",
              "\n",
              "    .dataframe tbody tr th {\n",
              "        vertical-align: top;\n",
              "    }\n",
              "\n",
              "    .dataframe thead th {\n",
              "        text-align: right;\n",
              "    }\n",
              "</style>\n",
              "<table border=\"1\" class=\"dataframe\">\n",
              "  <thead>\n",
              "    <tr style=\"text-align: right;\">\n",
              "      <th></th>\n",
              "      <th>publish_date</th>\n",
              "      <th>headline_category</th>\n",
              "      <th>headline_text</th>\n",
              "      <th>date</th>\n",
              "      <th>text</th>\n",
              "      <th>subjectivity</th>\n",
              "      <th>blob_sent</th>\n",
              "      <th>vader_sent</th>\n",
              "      <th>ad_count</th>\n",
              "      <th>adwords</th>\n",
              "      <th>ad_class</th>\n",
              "      <th>key_count</th>\n",
              "      <th>keywords</th>\n",
              "    </tr>\n",
              "  </thead>\n",
              "  <tbody>\n",
              "    <tr>\n",
              "      <th>672386</th>\n",
              "      <td>20090114</td>\n",
              "      <td>city.goa</td>\n",
              "      <td>From green ghat to dump</td>\n",
              "      <td>2009-01-14</td>\n",
              "      <td>From green ghat to dump</td>\n",
              "      <td>0.300000</td>\n",
              "      <td>-0.200000</td>\n",
              "      <td>-0.3818</td>\n",
              "      <td>0</td>\n",
              "      <td>[]</td>\n",
              "      <td>1</td>\n",
              "      <td>1</td>\n",
              "      <td>[dump]</td>\n",
              "    </tr>\n",
              "    <tr>\n",
              "      <th>674774</th>\n",
              "      <td>20090118</td>\n",
              "      <td>city.goa</td>\n",
              "      <td>Green zone turns dump yard</td>\n",
              "      <td>2009-01-18</td>\n",
              "      <td>Green zone turns dump yard</td>\n",
              "      <td>0.300000</td>\n",
              "      <td>-0.200000</td>\n",
              "      <td>-0.3818</td>\n",
              "      <td>0</td>\n",
              "      <td>[]</td>\n",
              "      <td>1</td>\n",
              "      <td>1</td>\n",
              "      <td>[dump]</td>\n",
              "    </tr>\n",
              "    <tr>\n",
              "      <th>675858</th>\n",
              "      <td>20090120</td>\n",
              "      <td>city.delhi</td>\n",
              "      <td>New lanes to ease congestion at toll plaza</td>\n",
              "      <td>2009-01-20</td>\n",
              "      <td>New lanes to ease congestion at toll plaza</td>\n",
              "      <td>0.454545</td>\n",
              "      <td>0.136364</td>\n",
              "      <td>0.3612</td>\n",
              "      <td>0</td>\n",
              "      <td>[]</td>\n",
              "      <td>1</td>\n",
              "      <td>1</td>\n",
              "      <td>[congestion]</td>\n",
              "    </tr>\n",
              "    <tr>\n",
              "      <th>683788</th>\n",
              "      <td>20090202</td>\n",
              "      <td>business.india-business</td>\n",
              "      <td>Expansion key to fight downturn</td>\n",
              "      <td>2009-02-02</td>\n",
              "      <td>Expansion key to fight downturn</td>\n",
              "      <td>1.000000</td>\n",
              "      <td>0.000000</td>\n",
              "      <td>-0.3818</td>\n",
              "      <td>0</td>\n",
              "      <td>[]</td>\n",
              "      <td>1</td>\n",
              "      <td>1</td>\n",
              "      <td>[downturn]</td>\n",
              "    </tr>\n",
              "    <tr>\n",
              "      <th>691475</th>\n",
              "      <td>20090214</td>\n",
              "      <td>city.bengaluru</td>\n",
              "      <td>First person account: The electronic whale</td>\n",
              "      <td>2009-02-14</td>\n",
              "      <td>First person account The electronic whale</td>\n",
              "      <td>0.333333</td>\n",
              "      <td>0.250000</td>\n",
              "      <td>0.0000</td>\n",
              "      <td>0</td>\n",
              "      <td>[]</td>\n",
              "      <td>1</td>\n",
              "      <td>1</td>\n",
              "      <td>[whale]</td>\n",
              "    </tr>\n",
              "  </tbody>\n",
              "</table>\n",
              "</div>"
            ],
            "text/plain": [
              "        publish_date        headline_category  ... key_count      keywords\n",
              "672386      20090114                 city.goa  ...         1        [dump]\n",
              "674774      20090118                 city.goa  ...         1        [dump]\n",
              "675858      20090120               city.delhi  ...         1  [congestion]\n",
              "683788      20090202  business.india-business  ...         1    [downturn]\n",
              "691475      20090214           city.bengaluru  ...         1       [whale]\n",
              "\n",
              "[5 rows x 13 columns]"
            ]
          },
          "metadata": {
            "tags": []
          },
          "execution_count": 60
        }
      ]
    },
    {
      "cell_type": "markdown",
      "metadata": {
        "id": "5f20BHxmarzC"
      },
      "source": [
        "**Add time as index**"
      ]
    },
    {
      "cell_type": "code",
      "metadata": {
        "id": "X32HnZ77l6wB",
        "colab": {
          "base_uri": "https://localhost:8080/"
        },
        "outputId": "88369d5c-1de4-4489-97ee-ddbc5da220d6"
      },
      "source": [
        "data['time'] = data['date']\n",
        "data.index = data['time']\n"
      ],
      "execution_count": 61,
      "outputs": [
        {
          "output_type": "stream",
          "text": [
            "/usr/local/lib/python3.7/dist-packages/ipykernel_launcher.py:1: SettingWithCopyWarning:\n",
            "\n",
            "\n",
            "A value is trying to be set on a copy of a slice from a DataFrame.\n",
            "Try using .loc[row_indexer,col_indexer] = value instead\n",
            "\n",
            "See the caveats in the documentation: https://pandas.pydata.org/pandas-docs/stable/user_guide/indexing.html#returning-a-view-versus-a-copy\n",
            "\n"
          ],
          "name": "stderr"
        }
      ]
    },
    {
      "cell_type": "markdown",
      "metadata": {
        "id": "ygp_ABR9bQwL"
      },
      "source": [
        "**Calculate daily weights using other attributes calculated in the previous steps**"
      ]
    },
    {
      "cell_type": "code",
      "metadata": {
        "id": "CjFiRNVW550X",
        "colab": {
          "base_uri": "https://localhost:8080/"
        },
        "outputId": "3caca5fd-e25c-4ffe-acd7-38d2973c00e4"
      },
      "source": [
        "data[\"Daily Weight\"] = data[\"key_count\"]*data[\"ad_class\"]\n"
      ],
      "execution_count": 62,
      "outputs": [
        {
          "output_type": "stream",
          "text": [
            "/usr/local/lib/python3.7/dist-packages/ipykernel_launcher.py:1: SettingWithCopyWarning:\n",
            "\n",
            "\n",
            "A value is trying to be set on a copy of a slice from a DataFrame.\n",
            "Try using .loc[row_indexer,col_indexer] = value instead\n",
            "\n",
            "See the caveats in the documentation: https://pandas.pydata.org/pandas-docs/stable/user_guide/indexing.html#returning-a-view-versus-a-copy\n",
            "\n"
          ],
          "name": "stderr"
        }
      ]
    },
    {
      "cell_type": "markdown",
      "metadata": {
        "id": "e-h8yuBxbvE7"
      },
      "source": [
        "**Fusing daily weight weight with TextBlob and VADER respectively**"
      ]
    },
    {
      "cell_type": "code",
      "metadata": {
        "id": "B0ENSBhQwmJM"
      },
      "source": [
        "def daily_weight_checker(wt, sentiment_val):\n",
        "  if wt != 0:\n",
        "    return wt*sentiment_val\n",
        "  else:\n",
        "    return sentiment_val"
      ],
      "execution_count": 63,
      "outputs": []
    },
    {
      "cell_type": "code",
      "metadata": {
        "id": "0YpHB2vN5-0L",
        "colab": {
          "base_uri": "https://localhost:8080/"
        },
        "outputId": "a72a5355-bc10-41e3-9e78-8de76da97565"
      },
      "source": [
        "# data[\"blob_sent\"] = data[\"blob_sent\"]*data[\"Daily Weight\"]\n",
        "data[\"blob_sent\"] = data.progress_apply(lambda x:daily_weight_checker(x[\"Daily Weight\"], x[\"blob_sent\"]),axis=1)\n",
        "data[\"vader_sent\"] = data.progress_apply(lambda x:daily_weight_checker(x[\"Daily Weight\"], x[\"vader_sent\"]),axis=1)"
      ],
      "execution_count": 64,
      "outputs": [
        {
          "output_type": "stream",
          "text": [
            "100%|██████████| 792169/792169 [00:19<00:00, 39833.86it/s]\n",
            "/usr/local/lib/python3.7/dist-packages/ipykernel_launcher.py:2: SettingWithCopyWarning:\n",
            "\n",
            "\n",
            "A value is trying to be set on a copy of a slice from a DataFrame.\n",
            "Try using .loc[row_indexer,col_indexer] = value instead\n",
            "\n",
            "See the caveats in the documentation: https://pandas.pydata.org/pandas-docs/stable/user_guide/indexing.html#returning-a-view-versus-a-copy\n",
            "\n",
            "100%|██████████| 792169/792169 [00:19<00:00, 41593.06it/s]\n",
            "/usr/local/lib/python3.7/dist-packages/ipykernel_launcher.py:3: SettingWithCopyWarning:\n",
            "\n",
            "\n",
            "A value is trying to be set on a copy of a slice from a DataFrame.\n",
            "Try using .loc[row_indexer,col_indexer] = value instead\n",
            "\n",
            "See the caveats in the documentation: https://pandas.pydata.org/pandas-docs/stable/user_guide/indexing.html#returning-a-view-versus-a-copy\n",
            "\n"
          ],
          "name": "stderr"
        }
      ]
    },
    {
      "cell_type": "code",
      "metadata": {
        "colab": {
          "base_uri": "https://localhost:8080/",
          "height": 298
        },
        "id": "W2g9jMTbXRiD",
        "outputId": "0f4537d3-73bd-40f1-89f0-25677016616b"
      },
      "source": [
        "data.head(2)"
      ],
      "execution_count": 65,
      "outputs": [
        {
          "output_type": "execute_result",
          "data": {
            "text/html": [
              "<div>\n",
              "<style scoped>\n",
              "    .dataframe tbody tr th:only-of-type {\n",
              "        vertical-align: middle;\n",
              "    }\n",
              "\n",
              "    .dataframe tbody tr th {\n",
              "        vertical-align: top;\n",
              "    }\n",
              "\n",
              "    .dataframe thead th {\n",
              "        text-align: right;\n",
              "    }\n",
              "</style>\n",
              "<table border=\"1\" class=\"dataframe\">\n",
              "  <thead>\n",
              "    <tr style=\"text-align: right;\">\n",
              "      <th></th>\n",
              "      <th>publish_date</th>\n",
              "      <th>headline_category</th>\n",
              "      <th>headline_text</th>\n",
              "      <th>date</th>\n",
              "      <th>text</th>\n",
              "      <th>subjectivity</th>\n",
              "      <th>blob_sent</th>\n",
              "      <th>vader_sent</th>\n",
              "      <th>ad_count</th>\n",
              "      <th>adwords</th>\n",
              "      <th>ad_class</th>\n",
              "      <th>key_count</th>\n",
              "      <th>keywords</th>\n",
              "      <th>time</th>\n",
              "      <th>Daily Weight</th>\n",
              "    </tr>\n",
              "    <tr>\n",
              "      <th>time</th>\n",
              "      <th></th>\n",
              "      <th></th>\n",
              "      <th></th>\n",
              "      <th></th>\n",
              "      <th></th>\n",
              "      <th></th>\n",
              "      <th></th>\n",
              "      <th></th>\n",
              "      <th></th>\n",
              "      <th></th>\n",
              "      <th></th>\n",
              "      <th></th>\n",
              "      <th></th>\n",
              "      <th></th>\n",
              "      <th></th>\n",
              "    </tr>\n",
              "  </thead>\n",
              "  <tbody>\n",
              "    <tr>\n",
              "      <th>2009-01-01</th>\n",
              "      <td>20090101</td>\n",
              "      <td>life-style.health-fitness.health-news</td>\n",
              "      <td>Six common medical myths debunked</td>\n",
              "      <td>2009-01-01</td>\n",
              "      <td>Six common medical myths debunked</td>\n",
              "      <td>0.5</td>\n",
              "      <td>-0.3</td>\n",
              "      <td>0.0000</td>\n",
              "      <td>0</td>\n",
              "      <td>[]</td>\n",
              "      <td>1</td>\n",
              "      <td>0</td>\n",
              "      <td>[]</td>\n",
              "      <td>2009-01-01</td>\n",
              "      <td>0</td>\n",
              "    </tr>\n",
              "    <tr>\n",
              "      <th>2009-01-01</th>\n",
              "      <td>20090101</td>\n",
              "      <td>life-style.health-fitness.health-news</td>\n",
              "      <td>Tired? Saunter amid greens</td>\n",
              "      <td>2009-01-01</td>\n",
              "      <td>Tired Saunter amid greens</td>\n",
              "      <td>0.3</td>\n",
              "      <td>-0.2</td>\n",
              "      <td>-0.4404</td>\n",
              "      <td>0</td>\n",
              "      <td>[]</td>\n",
              "      <td>1</td>\n",
              "      <td>0</td>\n",
              "      <td>[]</td>\n",
              "      <td>2009-01-01</td>\n",
              "      <td>0</td>\n",
              "    </tr>\n",
              "  </tbody>\n",
              "</table>\n",
              "</div>"
            ],
            "text/plain": [
              "            publish_date  ... Daily Weight\n",
              "time                      ...             \n",
              "2009-01-01      20090101  ...            0\n",
              "2009-01-01      20090101  ...            0\n",
              "\n",
              "[2 rows x 15 columns]"
            ]
          },
          "metadata": {
            "tags": []
          },
          "execution_count": 65
        }
      ]
    },
    {
      "cell_type": "markdown",
      "metadata": {
        "id": "1-RcevKHch_K"
      },
      "source": [
        "**Calculate daily features**"
      ]
    },
    {
      "cell_type": "code",
      "metadata": {
        "id": "KvA1SuPX6CKZ"
      },
      "source": [
        "sentiment_grouped_daily = data.groupby(pd.Grouper(key=\"time\", freq=\"D\")).agg(\n",
        "    Daily_Weight_mean_by_day = ('Daily Weight', np.mean),\n",
        "    Daily_Weight_count_by_day = ('Daily Weight', 'count'),\n",
        "    blob_sent_mean_by_day = ('blob_sent', np.mean),\n",
        "    subjectivity_mean_by_day = ('subjectivity', np.mean),\n",
        "    vader_sent_mean_by_day = ('vader_sent', np.mean)\n",
        ")"
      ],
      "execution_count": 66,
      "outputs": []
    },
    {
      "cell_type": "markdown",
      "metadata": {
        "id": "2df6M7eGcoln"
      },
      "source": [
        "**Drop Null rows as data will be missing fo some hour values**"
      ]
    },
    {
      "cell_type": "code",
      "metadata": {
        "colab": {
          "base_uri": "https://localhost:8080/",
          "height": 235
        },
        "id": "fPWZC9-29Bt5",
        "outputId": "de8be732-bb81-4f8a-95ba-f11d44725e48"
      },
      "source": [
        "drop_column_subset = sentiment_grouped_daily.columns.values[1:]\n",
        "sentiment_grouped_daily.dropna(subset=drop_column_subset, inplace=True)\n",
        "sentiment_grouped_daily.head()"
      ],
      "execution_count": 67,
      "outputs": [
        {
          "output_type": "execute_result",
          "data": {
            "text/html": [
              "<div>\n",
              "<style scoped>\n",
              "    .dataframe tbody tr th:only-of-type {\n",
              "        vertical-align: middle;\n",
              "    }\n",
              "\n",
              "    .dataframe tbody tr th {\n",
              "        vertical-align: top;\n",
              "    }\n",
              "\n",
              "    .dataframe thead th {\n",
              "        text-align: right;\n",
              "    }\n",
              "</style>\n",
              "<table border=\"1\" class=\"dataframe\">\n",
              "  <thead>\n",
              "    <tr style=\"text-align: right;\">\n",
              "      <th></th>\n",
              "      <th>Daily_Weight_mean_by_day</th>\n",
              "      <th>Daily_Weight_count_by_day</th>\n",
              "      <th>blob_sent_mean_by_day</th>\n",
              "      <th>subjectivity_mean_by_day</th>\n",
              "      <th>vader_sent_mean_by_day</th>\n",
              "    </tr>\n",
              "    <tr>\n",
              "      <th>time</th>\n",
              "      <th></th>\n",
              "      <th></th>\n",
              "      <th></th>\n",
              "      <th></th>\n",
              "      <th></th>\n",
              "    </tr>\n",
              "  </thead>\n",
              "  <tbody>\n",
              "    <tr>\n",
              "      <th>2009-01-01</th>\n",
              "      <td>0.0</td>\n",
              "      <td>118</td>\n",
              "      <td>0.155071</td>\n",
              "      <td>0.447250</td>\n",
              "      <td>0.093475</td>\n",
              "    </tr>\n",
              "    <tr>\n",
              "      <th>2009-01-02</th>\n",
              "      <td>0.0</td>\n",
              "      <td>140</td>\n",
              "      <td>0.073924</td>\n",
              "      <td>0.479974</td>\n",
              "      <td>-0.012027</td>\n",
              "    </tr>\n",
              "    <tr>\n",
              "      <th>2009-01-03</th>\n",
              "      <td>0.0</td>\n",
              "      <td>137</td>\n",
              "      <td>0.085556</td>\n",
              "      <td>0.462040</td>\n",
              "      <td>0.050018</td>\n",
              "    </tr>\n",
              "    <tr>\n",
              "      <th>2009-01-04</th>\n",
              "      <td>0.0</td>\n",
              "      <td>116</td>\n",
              "      <td>0.089732</td>\n",
              "      <td>0.462819</td>\n",
              "      <td>0.038505</td>\n",
              "    </tr>\n",
              "    <tr>\n",
              "      <th>2009-01-05</th>\n",
              "      <td>0.0</td>\n",
              "      <td>125</td>\n",
              "      <td>0.109155</td>\n",
              "      <td>0.483551</td>\n",
              "      <td>0.011550</td>\n",
              "    </tr>\n",
              "  </tbody>\n",
              "</table>\n",
              "</div>"
            ],
            "text/plain": [
              "            Daily_Weight_mean_by_day  ...  vader_sent_mean_by_day\n",
              "time                                  ...                        \n",
              "2009-01-01                       0.0  ...                0.093475\n",
              "2009-01-02                       0.0  ...               -0.012027\n",
              "2009-01-03                       0.0  ...                0.050018\n",
              "2009-01-04                       0.0  ...                0.038505\n",
              "2009-01-05                       0.0  ...                0.011550\n",
              "\n",
              "[5 rows x 5 columns]"
            ]
          },
          "metadata": {
            "tags": []
          },
          "execution_count": 67
        }
      ]
    },
    {
      "cell_type": "markdown",
      "metadata": {
        "id": "HAbSfPdxc0LC"
      },
      "source": [
        "**Method to classify the movement of features**"
      ]
    },
    {
      "cell_type": "code",
      "metadata": {
        "id": "k0XVJZa_CzWE"
      },
      "source": [
        "def movement_classifier(x):\n",
        "    try:\n",
        "        if x >= 0 :\n",
        "            return 1\n",
        "        else:\n",
        "            return 0\n",
        "    except:\n",
        "        print(x)"
      ],
      "execution_count": 68,
      "outputs": []
    },
    {
      "cell_type": "markdown",
      "metadata": {
        "id": "jQS2YODsc6-d"
      },
      "source": [
        "**Calculate differences to apply the movement_classifier**"
      ]
    },
    {
      "cell_type": "code",
      "metadata": {
        "colab": {
          "base_uri": "https://localhost:8080/"
        },
        "id": "kuoD25y36Z8L",
        "outputId": "e6442b17-3f29-4eb5-c105-779d40a96307"
      },
      "source": [
        "sentiment_grouped_daily[\"news_diff\"] = sentiment_grouped_daily[\"Daily_Weight_count_by_day\"].diff()\n",
        "sentiment_grouped_daily[\"blob_sent_mean_by_day_diff\"] = sentiment_grouped_daily[\"blob_sent_mean_by_day\"].diff()\n",
        "sentiment_grouped_daily[\"vader_sent_mean_by_day_diff\"] = sentiment_grouped_daily[\"vader_sent_mean_by_day\"].diff()\n",
        "sentiment_grouped_daily[\"news_movement\"] = sentiment_grouped_daily[\"news_diff\"].progress_apply(lambda x:movement_classifier(x))\n",
        "sentiment_grouped_daily[\"blob_sent_movement\"] = sentiment_grouped_daily[\"blob_sent_mean_by_day_diff\"].progress_apply(lambda x:movement_classifier(x))\n",
        "sentiment_grouped_daily[\"vader_sent_movement\"] = sentiment_grouped_daily[\"vader_sent_mean_by_day_diff\"].progress_apply(lambda x:movement_classifier(x))"
      ],
      "execution_count": 69,
      "outputs": [
        {
          "output_type": "stream",
          "text": [
            "100%|██████████| 4383/4383 [00:00<00:00, 583200.13it/s]\n",
            "100%|██████████| 4383/4383 [00:00<00:00, 576379.82it/s]\n",
            "100%|██████████| 4383/4383 [00:00<00:00, 475483.91it/s]\n"
          ],
          "name": "stderr"
        }
      ]
    },
    {
      "cell_type": "markdown",
      "metadata": {
        "id": "67etw9y3dFgp"
      },
      "source": [
        "**Save the data to save the processing time for future use**"
      ]
    },
    {
      "cell_type": "code",
      "metadata": {
        "id": "BQ-FYORKA1rQ"
      },
      "source": [
        "sentiment_grouped_daily.head(5)\n",
        "os.chdir(\"/content/drive/MyDrive/SparkIntern\")\n",
        "sentiment_grouped_daily.to_csv(\"sentiments_processed_data.csv\")"
      ],
      "execution_count": 70,
      "outputs": []
    },
    {
      "cell_type": "code",
      "metadata": {
        "colab": {
          "base_uri": "https://localhost:8080/"
        },
        "id": "6WuGDsFf9vJi",
        "outputId": "df1a9b9f-a5d4-48c4-e7df-a41bf7d9ea2b"
      },
      "source": [
        "sentiment_grouped_daily.info()"
      ],
      "execution_count": null,
      "outputs": [
        {
          "output_type": "stream",
          "text": [
            "<class 'pandas.core.frame.DataFrame'>\n",
            "DatetimeIndex: 3534 entries, 2001-01-02 to 2010-10-26\n",
            "Data columns (total 11 columns):\n",
            " #   Column                       Non-Null Count  Dtype  \n",
            "---  ------                       --------------  -----  \n",
            " 0   Daily_Weight_mean_by_day     3534 non-null   float64\n",
            " 1   Daily_Weight_count_by_day    3534 non-null   int64  \n",
            " 2   blob_sent_mean_by_day        3534 non-null   float64\n",
            " 3   subjectivity_mean_by_day     3534 non-null   float64\n",
            " 4   vader_sent_mean_by_day       3534 non-null   float64\n",
            " 5   news_diff                    3533 non-null   float64\n",
            " 6   blob_sent_mean_by_day_diff   3533 non-null   float64\n",
            " 7   vader_sent_mean_by_day_diff  3533 non-null   float64\n",
            " 8   news_movement                3534 non-null   int64  \n",
            " 9   blob_sent_movement           3534 non-null   int64  \n",
            " 10  vader_sent_movement          3534 non-null   int64  \n",
            "dtypes: float64(7), int64(4)\n",
            "memory usage: 331.3 KB\n"
          ],
          "name": "stdout"
        }
      ]
    },
    {
      "cell_type": "code",
      "metadata": {
        "id": "3gxq_WOLYlf5"
      },
      "source": [
        ""
      ],
      "execution_count": null,
      "outputs": []
    }
  ]
}