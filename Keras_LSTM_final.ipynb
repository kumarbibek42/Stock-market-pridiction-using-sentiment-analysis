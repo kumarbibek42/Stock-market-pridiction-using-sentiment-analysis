{
  "nbformat": 4,
  "nbformat_minor": 0,
  "metadata": {
    "kernelspec": {
      "display_name": "Python 3",
      "language": "python",
      "name": "python3"
    },
    "language_info": {
      "codemirror_mode": {
        "name": "ipython",
        "version": 3
      },
      "file_extension": ".py",
      "mimetype": "text/x-python",
      "name": "python",
      "nbconvert_exporter": "python",
      "pygments_lexer": "ipython3",
      "version": "3.8.5"
    },
    "colab": {
      "name": "Keras_LSTM_final.ipynb",
      "provenance": [],
      "collapsed_sections": []
    }
  },
  "cells": [
    {
      "cell_type": "markdown",
      "metadata": {
        "id": "bUeIKfvE7laJ"
      },
      "source": [
        "**Author: Bibek Prasad Gupta**"
      ]
    },
    {
      "cell_type": "markdown",
      "metadata": {
        "id": "M_INpnmrgeoE"
      },
      "source": [
        "**Connect to google drive**"
      ]
    },
    {
      "cell_type": "code",
      "metadata": {
        "colab": {
          "base_uri": "https://localhost:8080/"
        },
        "id": "2I_rNe3KpkbV",
        "outputId": "6ad40bc1-9f6f-4a35-c4c2-31534815323e"
      },
      "source": [
        "import os\n",
        "from google.colab import drive\n",
        "drive.mount('/content/drive/')"
      ],
      "execution_count": 16,
      "outputs": [
        {
          "output_type": "stream",
          "text": [
            "Drive already mounted at /content/drive/; to attempt to forcibly remount, call drive.mount(\"/content/drive/\", force_remount=True).\n"
          ],
          "name": "stdout"
        }
      ]
    },
    {
      "cell_type": "code",
      "metadata": {
        "id": "GPnL7Br-3qSx"
      },
      "source": [
        "os.chdir('/content/drive/MyDrive/SparkIntern')"
      ],
      "execution_count": 17,
      "outputs": []
    },
    {
      "cell_type": "code",
      "metadata": {
        "id": "OubHSyKwpfzC"
      },
      "source": [
        "import pandas as pd\n",
        "import numpy as np\n",
        "data = pd.read_csv(\"merged_price_and_sentiments_data.csv\")"
      ],
      "execution_count": 18,
      "outputs": []
    },
    {
      "cell_type": "code",
      "metadata": {
        "colab": {
          "base_uri": "https://localhost:8080/"
        },
        "id": "a22pytULpfzK",
        "outputId": "cc3b510e-939c-4351-bd83-645cbfe5aadb"
      },
      "source": [
        "print(data.columns)"
      ],
      "execution_count": 19,
      "outputs": [
        {
          "output_type": "stream",
          "text": [
            "Index(['Unnamed: 0', 'time', 'closed_price_by_day', 'price_diff', 'movement',\n",
            "       'Daily_Weight_mean_by_day', 'Daily_Weight_count_by_day',\n",
            "       'blob_sent_mean_by_day', 'subjectivity_mean_by_day',\n",
            "       'vader_sent_mean_by_day', 'news_diff', 'blob_sent_mean_by_day_diff',\n",
            "       'vader_sent_mean_by_day_diff', 'news_movement', 'blob_sent_movement',\n",
            "       'vader_sent_movement'],\n",
            "      dtype='object')\n"
          ],
          "name": "stdout"
        }
      ]
    },
    {
      "cell_type": "markdown",
      "metadata": {
        "id": "4pq298VEpfzM"
      },
      "source": [
        "# Normalizing values"
      ]
    },
    {
      "cell_type": "code",
      "metadata": {
        "id": "EH7X2TzlpfzM",
        "colab": {
          "base_uri": "https://localhost:8080/"
        },
        "outputId": "e251fdc8-bcc1-41c0-8e75-e02b024cb042"
      },
      "source": [
        "time_len = data.shape[0]\n",
        "x = data.filter(['blob_sent_mean_by_day', 'subjectivity_mean_by_day','vader_sent_mean_by_day','closed_price_by_day','Daily_Weight_count_by_day',\"movement\"])\n",
        "\n",
        "from sklearn import preprocessing\n",
        "\n",
        "xx = x.values #returns a numpy array\n",
        "min_max_scaler = preprocessing.MinMaxScaler()\n",
        "x_scaled = min_max_scaler.fit_transform(xx)\n",
        "#df = pd.DataFrame(x_scaled)\n",
        "print(x_scaled)\n"
      ],
      "execution_count": 20,
      "outputs": [
        {
          "output_type": "stream",
          "text": [
            "[[0.26941377 0.21155412 0.41965887 0.32402647 0.57831325 0.        ]\n",
            " [0.29686181 0.50608546 0.61890852 0.32853715 0.34337349 1.        ]\n",
            " [0.30356941 0.26172291 0.24559863 0.33453235 0.51204819 1.        ]\n",
            " ...\n",
            " [0.26450303 0.46199101 0.57190915 0.82237063 0.37349398 0.        ]\n",
            " [0.19671027 0.28603092 0.36365738 0.8423547  0.30722892 1.        ]\n",
            " [0.36569569 0.3687874  0.66214024 0.83344754 0.3253012  0.        ]]\n"
          ],
          "name": "stdout"
        }
      ]
    },
    {
      "cell_type": "markdown",
      "metadata": {
        "id": "sn4oeIrPpfzN"
      },
      "source": [
        "# Use series_to_supervised to get time series data"
      ]
    },
    {
      "cell_type": "code",
      "metadata": {
        "scrolled": true,
        "colab": {
          "base_uri": "https://localhost:8080/"
        },
        "id": "1__nwCVOpfzN",
        "outputId": "3b435c49-23a9-4c06-c769-ac87685c054b"
      },
      "source": [
        "\n",
        "from sklearn.preprocessing import LabelEncoder\n",
        "\n",
        "# convert series to supervised learning\n",
        "def series_to_supervised(data, n_in=1, n_out=1, dropnan=True):\n",
        "    n_vars = 1 if type(data) is list else data.shape[1]\n",
        "    df = pd.DataFrame(data)\n",
        "    cols, names = list(), list()\n",
        "# input sequence (t-n, ... t-1)\n",
        "    for i in range(n_in, 0, -1):\n",
        "        cols.append(df.shift(i))\n",
        "        names += [('var%d(t-%d)' % (df.columns[j], i)) for j in range(n_vars)]\n",
        "    # forecast sequence (t, t+1, ... t+n)\n",
        "    for i in range(0, n_out):\n",
        "        cols.append(df.shift(-i))\n",
        "        if i == 0:\n",
        "            names += [('var%d(t)' % (df.columns[j])) for j in range(n_vars)]\n",
        "        else:\n",
        "            names += [('var%d(t+%d)' % (df.columns[j], i)) for j in range(n_vars)]\n",
        "# put it all together\n",
        "    agg = pd.concat(cols, axis=1)\n",
        "    agg.columns = names\n",
        "    # drop rows with NaN values\n",
        "    if dropnan:\n",
        "        agg.dropna(inplace=True)\n",
        "    return agg\n",
        " \n",
        "# integer encode direction\n",
        "encoder = LabelEncoder()\n",
        "xx[:,3] = encoder.fit_transform(xx[:,3])\n",
        "# ensure all data is float\n",
        "xx = xx.astype('float32')\n",
        "# normalize features\n",
        "scaler = preprocessing.MinMaxScaler(feature_range=(0, 1))\n",
        "scaled = scaler.fit_transform(xx)\n",
        "# frame as supervised learning\n",
        "reframed = series_to_supervised(scaled, 2, 1)\n",
        "# drop columns we don't want to predict\n",
        "reframed.drop(reframed.columns[[8,9,10]], axis=1, inplace=True)\n",
        "print(reframed.head())\n"
      ],
      "execution_count": 21,
      "outputs": [
        {
          "output_type": "stream",
          "text": [
            "   var0(t-2)  var1(t-2)  var2(t-2)  ...   var3(t)   var4(t)  var5(t)\n",
            "2   0.269414   0.211554   0.419659  ...  0.674687  0.512048      1.0\n",
            "3   0.296862   0.506085   0.618908  ...  0.624639  0.463855      0.0\n",
            "4   0.303569   0.261723   0.245599  ...  0.650626  0.487952      1.0\n",
            "5   0.229803   0.288425   0.624440  ...  0.608277  0.572289      0.0\n",
            "6   0.241443   0.306317   0.439056  ...  0.606352  0.439759      0.0\n",
            "\n",
            "[5 rows x 15 columns]\n"
          ],
          "name": "stdout"
        }
      ]
    },
    {
      "cell_type": "markdown",
      "metadata": {
        "id": "cleUTUBqpfzO"
      },
      "source": [
        "# LSTM MODEL \n"
      ]
    },
    {
      "cell_type": "code",
      "metadata": {
        "id": "6ub5w8UupfzO"
      },
      "source": [
        "import keras\n",
        "from keras.datasets import reuters, imdb\n",
        "from keras.models import Sequential\n",
        "from keras.layers import LSTM, SimpleRNN, GRU, Dense, Dropout, Activation, Embedding, ConvLSTM2D,Bidirectional, Conv2D,Conv1D\n",
        "from keras.preprocessing.text import Tokenizer\n",
        "from keras.preprocessing import sequence\n",
        "from sklearn.model_selection import train_test_split\n",
        "from sklearn.metrics import mean_squared_error\n",
        "from sklearn import metrics\n",
        "from keras import metrics as met2\n",
        "import math\n",
        "from numpy import concatenate"
      ],
      "execution_count": 22,
      "outputs": []
    },
    {
      "cell_type": "markdown",
      "metadata": {
        "id": "wMIOmMLWpfzP"
      },
      "source": [
        "# train test split and reshaping"
      ]
    },
    {
      "cell_type": "code",
      "metadata": {
        "colab": {
          "base_uri": "https://localhost:8080/"
        },
        "id": "pBNuLjIvpfzQ",
        "outputId": "8d77fe4b-5a64-458c-e3fb-677dc1296579"
      },
      "source": [
        "labels = reframed.values[:,-1]\n",
        "#labels = labels.astype('int')\n",
        "print(reframed.shape)\n",
        "features = reframed.values[:,:8]\n",
        "print(features.shape,labels.shape)\n",
        "x_train, x_test, y_train, y_test = train_test_split(features, labels, test_size=0.2)\n",
        "x_train = x_train.reshape((x_train.shape[0], 2, 4))\n",
        "x_test = x_test.reshape((x_test.shape[0],2, 4))\n",
        "print(x_train.shape)"
      ],
      "execution_count": 23,
      "outputs": [
        {
          "output_type": "stream",
          "text": [
            "(1132, 15)\n",
            "(1132, 8) (1132,)\n",
            "(905, 2, 4)\n"
          ],
          "name": "stdout"
        }
      ]
    },
    {
      "cell_type": "code",
      "metadata": {
        "scrolled": true,
        "id": "dZzjKYxFpfzQ"
      },
      "source": [
        ""
      ],
      "execution_count": null,
      "outputs": []
    },
    {
      "cell_type": "markdown",
      "metadata": {
        "id": "HjuCW278pfzR"
      },
      "source": [
        "# Compiling model"
      ]
    },
    {
      "cell_type": "code",
      "metadata": {
        "scrolled": true,
        "colab": {
          "base_uri": "https://localhost:8080/"
        },
        "id": "mQ7ZyYnSpfzS",
        "outputId": "8a071801-1ba7-49a9-80c0-d23318056365"
      },
      "source": [
        "\n",
        "# design network\n",
        "#for i in range(1,10):\n",
        "model = Sequential()\n",
        "#model.add(Conv2D(100, 2, activation='relu'))\n",
        "#model.add(SimpleRNN(32))\n",
        "model.add(Bidirectional(LSTM(100), input_shape=(x_train.shape[1], x_train.shape[2])))\n",
        "#model.add(ConvLSTM2D(2,kernel_size = (3,3),input_shape =(None,x_train.shape[1], x_train.shape[2],1) ,padding='same', return_sequences=True))\n",
        "model.add(Dropout(0.2))\n",
        "model.add(Dense(1))\n",
        "model.add(Activation(\"sigmoid\"))\n",
        "model.compile(loss='binary_crossentropy', metrics=[met2.binary_accuracy], optimizer='adam')\n",
        "# fit network\n",
        "history = model.fit(x_train, y_train, epochs=100, batch_size=100, validation_data=(x_test, y_test), verbose=0, shuffle=False)\n",
        "# plot history\n",
        "print(model.summary())\n",
        "\n"
      ],
      "execution_count": 24,
      "outputs": [
        {
          "output_type": "stream",
          "text": [
            "Model: \"sequential_1\"\n",
            "_________________________________________________________________\n",
            "Layer (type)                 Output Shape              Param #   \n",
            "=================================================================\n",
            "bidirectional_1 (Bidirection (None, 200)               84000     \n",
            "_________________________________________________________________\n",
            "dropout_1 (Dropout)          (None, 200)               0         \n",
            "_________________________________________________________________\n",
            "dense_1 (Dense)              (None, 1)                 201       \n",
            "_________________________________________________________________\n",
            "activation_1 (Activation)    (None, 1)                 0         \n",
            "=================================================================\n",
            "Total params: 84,201\n",
            "Trainable params: 84,201\n",
            "Non-trainable params: 0\n",
            "_________________________________________________________________\n",
            "None\n"
          ],
          "name": "stdout"
        }
      ]
    },
    {
      "cell_type": "code",
      "metadata": {
        "colab": {
          "base_uri": "https://localhost:8080/",
          "height": 265
        },
        "id": "2eSvE3japfzS",
        "outputId": "70181f07-dca6-4c65-e7ea-aa90f05b756e"
      },
      "source": [
        "from matplotlib import pyplot\n",
        "pyplot.plot(history.history['loss'], label='train')\n",
        "pyplot.show()"
      ],
      "execution_count": 25,
      "outputs": [
        {
          "output_type": "display_data",
          "data": {
            "image/png": "[encoded data removed]",
            "text/plain": [
              "<Figure size 432x288 with 1 Axes>"
            ]
          },
          "metadata": {
            "tags": [],
            "needs_background": "light"
          }
        }
      ]
    },
    {
      "cell_type": "markdown",
      "metadata": {
        "id": "U6ZLFLMtpfzT"
      },
      "source": [
        "# Evaluation"
      ]
    },
    {
      "cell_type": "code",
      "metadata": {
        "colab": {
          "base_uri": "https://localhost:8080/"
        },
        "id": "EllAaLfXpfzT",
        "outputId": "b2cf1b32-7cf0-445a-95f0-24bb9fc9e992"
      },
      "source": [
        "# make a prediction\n",
        "\n",
        "#x_test = test_X.reshape((x_test.shape[0], x_test.shape[2]))\n",
        "yhat = model.predict(x_test)\n",
        "#print(yhat.score)\n",
        "rmse = math.sqrt(mean_squared_error(y_test, yhat))\n",
        "print('Test RMSE: %.3f' % rmse)"
      ],
      "execution_count": 26,
      "outputs": [
        {
          "output_type": "stream",
          "text": [
            "Test RMSE: 0.497\n"
          ],
          "name": "stdout"
        }
      ]
    },
    {
      "cell_type": "code",
      "metadata": {
        "colab": {
          "base_uri": "https://localhost:8080/"
        },
        "id": "X5gWuiWepfzT",
        "outputId": "bfab911e-fb26-4687-fca6-ca7fa600f374"
      },
      "source": [
        "\n",
        "#print(yhat[0:90])\n",
        "yhat = yhat.astype(\"float64\")\n",
        "y2 = yhat\n",
        "for i in range(yhat.shape[0]):\n",
        "    if y2[i] >0.5:\n",
        "        y2[i] = 1\n",
        "    else:\n",
        "        y2[i] = 0\n",
        "matrix = metrics.confusion_matrix(y_test,yhat)\n",
        "#acc = met2.binary_accuracy(y_test,keras.backend.round(yhat),threshold=0.5)\n",
        "print(matrix)\n",
        "#print(acc)\n",
        "\n",
        "score = model.evaluate(x_test, y_test, batch_size=72, verbose=1)\n",
        "print('Test score:', score[1])\n"
      ],
      "execution_count": 27,
      "outputs": [
        {
          "output_type": "stream",
          "text": [
            "[[52 50]\n",
            " [50 75]]\n",
            "4/4 [==============================] - 0s 5ms/step - loss: 0.6864 - binary_accuracy: 0.5595\n",
            "Test score: 0.5594713687896729\n"
          ],
          "name": "stdout"
        }
      ]
    },
    {
      "cell_type": "code",
      "metadata": {
        "id": "Ft_AxH7dpfzU"
      },
      "source": [
        ""
      ],
      "execution_count": null,
      "outputs": []
    },
    {
      "cell_type": "code",
      "metadata": {
        "id": "dyVPyzGTpfzU"
      },
      "source": [
        ""
      ],
      "execution_count": null,
      "outputs": []
    }
  ]
}