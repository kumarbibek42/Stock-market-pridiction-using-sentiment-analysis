{
  "nbformat": 4,
  "nbformat_minor": 0,
  "metadata": {
    "kernelspec": {
      "display_name": "Python 3",
      "language": "python",
      "name": "python3"
    },
    "language_info": {
      "codemirror_mode": {
        "name": "ipython",
        "version": 3
      },
      "file_extension": ".py",
      "mimetype": "text/x-python",
      "name": "python",
      "nbconvert_exporter": "python",
      "pygments_lexer": "ipython3",
      "version": "3.8.5"
    },
    "colab": {
      "name": "Keras_LSTM_final.ipynb",
      "provenance": [],
      "collapsed_sections": []
    }
  },
  "cells": [
    {
      "cell_type": "markdown",
      "metadata": {
        "id": "M_INpnmrgeoE"
      },
      "source": [
        "**Connect to google drive**"
      ]
    },
    {
      "cell_type": "code",
      "metadata": {
        "colab": {
          "base_uri": "https://localhost:8080/"
        },
        "id": "2I_rNe3KpkbV",
        "outputId": "7adf364c-95da-4fc3-a464-f00ec091e624"
      },
      "source": [
        "import os\n",
        "from google.colab import drive\n",
        "drive.mount('/content/drive/')"
      ],
      "execution_count": 2,
      "outputs": [
        {
          "output_type": "stream",
          "text": [
            "Drive already mounted at /content/drive/; to attempt to forcibly remount, call drive.mount(\"/content/drive/\", force_remount=True).\n"
          ],
          "name": "stdout"
        }
      ]
    },
    {
      "cell_type": "code",
      "metadata": {
        "id": "GPnL7Br-3qSx"
      },
      "source": [
        "os.chdir('/content/drive/MyDrive/SparkIntern')"
      ],
      "execution_count": 3,
      "outputs": []
    },
    {
      "cell_type": "code",
      "metadata": {
        "id": "OubHSyKwpfzC"
      },
      "source": [
        "import pandas as pd\n",
        "import numpy as np\n",
        "data = pd.read_csv(\"merged_price_and_sentiments_data.csv\")"
      ],
      "execution_count": 5,
      "outputs": []
    },
    {
      "cell_type": "code",
      "metadata": {
        "colab": {
          "base_uri": "https://localhost:8080/"
        },
        "id": "HeSVo-M7c5vt",
        "outputId": "d3c51546-4564-421d-ccc6-eb331b0a88f6"
      },
      "source": [
        "data[\"blob_sent_mean_by_day\"].describe()"
      ],
      "execution_count": 6,
      "outputs": [
        {
          "output_type": "execute_result",
          "data": {
            "text/plain": [
              "count    1134.000000\n",
              "mean        0.083524\n",
              "std         0.037653\n",
              "min        -0.014686\n",
              "25%         0.058477\n",
              "50%         0.080422\n",
              "75%         0.102867\n",
              "max         0.335491\n",
              "Name: blob_sent_mean_by_day, dtype: float64"
            ]
          },
          "metadata": {
            "tags": []
          },
          "execution_count": 6
        }
      ]
    },
    {
      "cell_type": "code",
      "metadata": {
        "colab": {
          "base_uri": "https://localhost:8080/"
        },
        "id": "a22pytULpfzK",
        "outputId": "e3785ef0-253c-43d3-c04e-d17b9a3c8921"
      },
      "source": [
        "print(data.columns)\n",
        "# data = data.filter(['date2','hour','vader_sent_hourly mean','Daily Weight count','Close','price dir','movement'])\n",
        "# data = data.filter(['date2','hour','vader_sent_hourly mean','Daily Weight count','Close','price dir','movement'])\n",
        "# data"
      ],
      "execution_count": 7,
      "outputs": [
        {
          "output_type": "stream",
          "text": [
            "Index(['Unnamed: 0', 'time', 'closed_price_by_day', 'price_diff', 'movement',\n",
            "       'Daily_Weight_mean_by_day', 'Daily_Weight_count_by_day',\n",
            "       'blob_sent_mean_by_day', 'subjectivity_mean_by_day',\n",
            "       'vader_sent_mean_by_day', 'news_diff', 'blob_sent_mean_by_day_diff',\n",
            "       'vader_sent_mean_by_day_diff', 'news_movement', 'blob_sent_movement',\n",
            "       'vader_sent_movement'],\n",
            "      dtype='object')\n"
          ],
          "name": "stdout"
        }
      ]
    },
    {
      "cell_type": "markdown",
      "metadata": {
        "id": "4pq298VEpfzM"
      },
      "source": [
        "# Normalizing values"
      ]
    },
    {
      "cell_type": "code",
      "metadata": {
        "id": "EH7X2TzlpfzM",
        "colab": {
          "base_uri": "https://localhost:8080/"
        },
        "outputId": "87b1da89-ee27-40c8-e890-d93a61cc72e3"
      },
      "source": [
        "time_len = data.shape[0]\n",
        "print(time_len)\n",
        "# x = data.filter(['vader_sent_hourly mean','Close','Daily Weight count',\"movement\"])\n",
        "x = data.filter(['vader_sent_mean_by_day','closed_price_by_day','Daily_Weight_count_by_day',\"movement\"])\n",
        "\n",
        "from sklearn import preprocessing\n",
        "\n",
        "xx = x.values #returns a numpy array\n",
        "min_max_scaler = preprocessing.MinMaxScaler()\n",
        "x_scaled = min_max_scaler.fit_transform(xx)\n",
        "#df = pd.DataFrame(x_scaled)\n",
        "print(x_scaled)\n"
      ],
      "execution_count": 8,
      "outputs": [
        {
          "output_type": "stream",
          "text": [
            "1134\n",
            "[[0.41965887 0.32402647 0.57831325 0.        ]\n",
            " [0.61890852 0.32853715 0.34337349 1.        ]\n",
            " [0.24559863 0.33453235 0.51204819 1.        ]\n",
            " ...\n",
            " [0.57190915 0.82237063 0.37349398 0.        ]\n",
            " [0.36365738 0.8423547  0.30722892 1.        ]\n",
            " [0.66214024 0.83344754 0.3253012  0.        ]]\n"
          ],
          "name": "stdout"
        }
      ]
    },
    {
      "cell_type": "markdown",
      "metadata": {
        "id": "sn4oeIrPpfzN"
      },
      "source": [
        "# Use series_to_supervised to get time series data"
      ]
    },
    {
      "cell_type": "code",
      "metadata": {
        "scrolled": true,
        "colab": {
          "base_uri": "https://localhost:8080/"
        },
        "id": "1__nwCVOpfzN",
        "outputId": "3ce14b59-29f6-4b41-9557-86835c6db2df"
      },
      "source": [
        "\n",
        "from sklearn.preprocessing import LabelEncoder\n",
        "\n",
        "# convert series to supervised learning\n",
        "def series_to_supervised(data, n_in=1, n_out=1, dropnan=True):\n",
        "    n_vars = 1 if type(data) is list else data.shape[1]\n",
        "    df = pd.DataFrame(data)\n",
        "    cols, names = list(), list()\n",
        "# input sequence (t-n, ... t-1)\n",
        "    for i in range(n_in, 0, -1):\n",
        "        cols.append(df.shift(i))\n",
        "        names += [('var%d(t-%d)' % (df.columns[j], i)) for j in range(n_vars)]\n",
        "    # forecast sequence (t, t+1, ... t+n)\n",
        "    for i in range(0, n_out):\n",
        "        cols.append(df.shift(-i))\n",
        "        if i == 0:\n",
        "            names += [('var%d(t)' % (df.columns[j])) for j in range(n_vars)]\n",
        "        else:\n",
        "            names += [('var%d(t+%d)' % (df.columns[j], i)) for j in range(n_vars)]\n",
        "# put it all together\n",
        "    agg = pd.concat(cols, axis=1)\n",
        "    agg.columns = names\n",
        "    # drop rows with NaN values\n",
        "    if dropnan:\n",
        "        agg.dropna(inplace=True)\n",
        "    return agg\n",
        " \n",
        "# integer encode direction\n",
        "encoder = LabelEncoder()\n",
        "xx[:,3] = encoder.fit_transform(xx[:,3])\n",
        "# ensure all data is float\n",
        "xx = xx.astype('float32')\n",
        "# normalize features\n",
        "scaler = preprocessing.MinMaxScaler(feature_range=(0, 1))\n",
        "scaled = scaler.fit_transform(xx)\n",
        "# frame as supervised learning\n",
        "reframed = series_to_supervised(scaled, 2, 1)\n",
        "# drop columns we don't want to predict\n",
        "reframed.drop(reframed.columns[[8,9,10]], axis=1, inplace=True)\n",
        "print(reframed.head())\n"
      ],
      "execution_count": 9,
      "outputs": [
        {
          "output_type": "stream",
          "text": [
            "   var0(t-2)  var1(t-2)  var2(t-2)  ...  var2(t-1)  var3(t-1)  var3(t)\n",
            "2   0.419659   0.324027   0.578313  ...   0.343373        1.0      1.0\n",
            "3   0.618908   0.328537   0.343373  ...   0.512048        1.0      0.0\n",
            "4   0.245599   0.334532   0.512048  ...   0.463855        0.0      1.0\n",
            "5   0.624440   0.323456   0.463855  ...   0.487952        1.0      0.0\n",
            "6   0.439056   0.329337   0.487952  ...   0.572289        0.0      0.0\n",
            "\n",
            "[5 rows x 9 columns]\n"
          ],
          "name": "stdout"
        }
      ]
    },
    {
      "cell_type": "markdown",
      "metadata": {
        "id": "cleUTUBqpfzO"
      },
      "source": [
        "# LSTM MODEL \n"
      ]
    },
    {
      "cell_type": "code",
      "metadata": {
        "id": "6ub5w8UupfzO"
      },
      "source": [
        "import keras\n",
        "from keras.datasets import reuters, imdb\n",
        "from keras.models import Sequential\n",
        "from keras.layers import LSTM, SimpleRNN, GRU, Dense, Dropout, Activation, Embedding, ConvLSTM2D,Bidirectional, Conv2D,Conv1D\n",
        "from keras.preprocessing.text import Tokenizer\n",
        "from keras.preprocessing import sequence\n",
        "from sklearn.model_selection import train_test_split\n",
        "from sklearn.metrics import mean_squared_error\n",
        "from sklearn import metrics\n",
        "from keras import metrics as met2\n",
        "import math\n",
        "from numpy import concatenate"
      ],
      "execution_count": 10,
      "outputs": []
    },
    {
      "cell_type": "markdown",
      "metadata": {
        "id": "wMIOmMLWpfzP"
      },
      "source": [
        "# train test split and reshaping"
      ]
    },
    {
      "cell_type": "code",
      "metadata": {
        "colab": {
          "base_uri": "https://localhost:8080/"
        },
        "id": "pBNuLjIvpfzQ",
        "outputId": "574d2c80-a084-4452-fb7c-1e53798dbe7a"
      },
      "source": [
        "labels = reframed.values[:,-1]\n",
        "#labels = labels.astype('int')\n",
        "print(reframed.shape)\n",
        "features = reframed.values[:,:8]\n",
        "print(features.shape,labels.shape)\n",
        "x_train, x_test, y_train, y_test = train_test_split(features, labels, test_size=0.2)\n",
        "x_train = x_train.reshape((x_train.shape[0], 2, 4))\n",
        "x_test = x_test.reshape((x_test.shape[0],2, 4))\n",
        "print(x_train.shape)"
      ],
      "execution_count": 11,
      "outputs": [
        {
          "output_type": "stream",
          "text": [
            "(1132, 9)\n",
            "(1132, 8) (1132,)\n",
            "(905, 2, 4)\n"
          ],
          "name": "stdout"
        }
      ]
    },
    {
      "cell_type": "code",
      "metadata": {
        "scrolled": true,
        "id": "dZzjKYxFpfzQ"
      },
      "source": [
        ""
      ],
      "execution_count": null,
      "outputs": []
    },
    {
      "cell_type": "markdown",
      "metadata": {
        "id": "HjuCW278pfzR"
      },
      "source": [
        "# Compiling model"
      ]
    },
    {
      "cell_type": "code",
      "metadata": {
        "scrolled": true,
        "colab": {
          "base_uri": "https://localhost:8080/"
        },
        "id": "mQ7ZyYnSpfzS",
        "outputId": "ec0d2914-533f-40fb-c42c-74f373ea337e"
      },
      "source": [
        "\n",
        "# design network\n",
        "#for i in range(1,10):\n",
        "model = Sequential()\n",
        "#model.add(Conv2D(100, 2, activation='relu'))\n",
        "#model.add(SimpleRNN(32))\n",
        "model.add(Bidirectional(LSTM(100), input_shape=(x_train.shape[1], x_train.shape[2])))\n",
        "#model.add(ConvLSTM2D(2,kernel_size = (3,3),input_shape =(None,x_train.shape[1], x_train.shape[2],1) ,padding='same', return_sequences=True))\n",
        "model.add(Dropout(0.2))\n",
        "model.add(Dense(1))\n",
        "model.add(Activation(\"sigmoid\"))\n",
        "model.compile(loss='binary_crossentropy', metrics=[met2.binary_accuracy], optimizer='adam')\n",
        "# fit network\n",
        "history = model.fit(x_train, y_train, epochs=100, batch_size=100, validation_data=(x_test, y_test), verbose=0, shuffle=False)\n",
        "# plot history\n",
        "print(model.summary())\n",
        "\n"
      ],
      "execution_count": 12,
      "outputs": [
        {
          "output_type": "stream",
          "text": [
            "Model: \"sequential\"\n",
            "_________________________________________________________________\n",
            "Layer (type)                 Output Shape              Param #   \n",
            "=================================================================\n",
            "bidirectional (Bidirectional (None, 200)               84000     \n",
            "_________________________________________________________________\n",
            "dropout (Dropout)            (None, 200)               0         \n",
            "_________________________________________________________________\n",
            "dense (Dense)                (None, 1)                 201       \n",
            "_________________________________________________________________\n",
            "activation (Activation)      (None, 1)                 0         \n",
            "=================================================================\n",
            "Total params: 84,201\n",
            "Trainable params: 84,201\n",
            "Non-trainable params: 0\n",
            "_________________________________________________________________\n",
            "None\n"
          ],
          "name": "stdout"
        }
      ]
    },
    {
      "cell_type": "code",
      "metadata": {
        "colab": {
          "base_uri": "https://localhost:8080/",
          "height": 265
        },
        "id": "2eSvE3japfzS",
        "outputId": "6af40b73-1fc9-48da-b1e8-55edddcd9581"
      },
      "source": [
        "from matplotlib import pyplot\n",
        "pyplot.plot(history.history['loss'], label='train')\n",
        "pyplot.show()"
      ],
      "execution_count": 13,
      "outputs": [
        {
          "output_type": "display_data",
          "data": {
            "image/png": "[encoded data removed]",
            "text/plain": [
              "<Figure size 432x288 with 1 Axes>"
            ]
          },
          "metadata": {
            "tags": [],
            "needs_background": "light"
          }
        }
      ]
    },
    {
      "cell_type": "markdown",
      "metadata": {
        "id": "U6ZLFLMtpfzT"
      },
      "source": [
        "# Evaluation"
      ]
    },
    {
      "cell_type": "code",
      "metadata": {
        "colab": {
          "base_uri": "https://localhost:8080/"
        },
        "id": "EllAaLfXpfzT",
        "outputId": "ae3c6e49-8b77-4941-950e-c3d827d76222"
      },
      "source": [
        "# make a prediction\n",
        "\n",
        "#x_test = test_X.reshape((x_test.shape[0], x_test.shape[2]))\n",
        "yhat = model.predict(x_test)\n",
        "#print(yhat.score)\n",
        "rmse = math.sqrt(mean_squared_error(y_test, yhat))\n",
        "print('Test RMSE: %.3f' % rmse)"
      ],
      "execution_count": 14,
      "outputs": [
        {
          "output_type": "stream",
          "text": [
            "Test RMSE: 0.504\n"
          ],
          "name": "stdout"
        }
      ]
    },
    {
      "cell_type": "code",
      "metadata": {
        "colab": {
          "base_uri": "https://localhost:8080/"
        },
        "id": "X5gWuiWepfzT",
        "outputId": "fa1ffda5-a584-43fc-bf1a-bd6f3d490db8"
      },
      "source": [
        "\n",
        "#print(yhat[0:90])\n",
        "yhat = yhat.astype(\"float64\")\n",
        "y2 = yhat\n",
        "for i in range(yhat.shape[0]):\n",
        "    if y2[i] >0.5:\n",
        "        y2[i] = 1\n",
        "    else:\n",
        "        y2[i] = 0\n",
        "matrix = metrics.confusion_matrix(y_test,yhat)\n",
        "#acc = met2.binary_accuracy(y_test,keras.backend.round(yhat),threshold=0.5)\n",
        "print(matrix)\n",
        "#print(acc)\n",
        "\n",
        "score = model.evaluate(x_test, y_test, batch_size=72, verbose=1)\n",
        "print('Test score:', score[1])\n"
      ],
      "execution_count": 15,
      "outputs": [
        {
          "output_type": "stream",
          "text": [
            "[[43 72]\n",
            " [36 76]]\n",
            "4/4 [==============================] - 0s 4ms/step - loss: 0.7012 - binary_accuracy: 0.5242\n",
            "Test score: 0.5242290496826172\n"
          ],
          "name": "stdout"
        }
      ]
    },
    {
      "cell_type": "code",
      "metadata": {
        "id": "Ft_AxH7dpfzU"
      },
      "source": [
        ""
      ],
      "execution_count": null,
      "outputs": []
    },
    {
      "cell_type": "code",
      "metadata": {
        "id": "dyVPyzGTpfzU"
      },
      "source": [
        ""
      ],
      "execution_count": null,
      "outputs": []
    }
  ]
}