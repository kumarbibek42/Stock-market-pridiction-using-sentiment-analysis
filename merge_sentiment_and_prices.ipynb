{
  "nbformat": 4,
  "nbformat_minor": 0,
  "metadata": {
    "colab": {
      "name": "merge_sentiment_and_prices.ipynb",
      "provenance": [],
      "collapsed_sections": []
    },
    "kernelspec": {
      "name": "python3",
      "display_name": "Python 3"
    },
    "language_info": {
      "name": "python"
    }
  },
  "cells": [
    {
      "cell_type": "markdown",
      "metadata": {
        "id": "BpcMflZ3KNoI"
      },
      "source": [
        "**Author:\n",
        "Bibek Prasad Gupta**"
      ]
    },
    {
      "cell_type": "code",
      "metadata": {
        "colab": {
          "base_uri": "https://localhost:8080/"
        },
        "id": "uhHzL80nw_h_",
        "outputId": "23089491-767e-40e4-d7fe-776bfb101321"
      },
      "source": [
        "import pandas as pd\n",
        "import numpy as np\n",
        "import math\n",
        "import io\n",
        "from tqdm import tqdm\n",
        "from datetime import datetime\n",
        "\n",
        "tqdm.pandas()"
      ],
      "execution_count": 31,
      "outputs": [
        {
          "output_type": "stream",
          "text": [
            "/usr/local/lib/python3.7/dist-packages/tqdm/std.py:658: FutureWarning: The Panel class is removed from pandas. Accessing it from the top-level namespace will also be removed in the next version\n",
            "  from pandas import Panel\n"
          ],
          "name": "stderr"
        }
      ]
    },
    {
      "cell_type": "code",
      "metadata": {
        "colab": {
          "base_uri": "https://localhost:8080/"
        },
        "id": "s5gDhkcSxjpV",
        "outputId": "1efa1f26-ebcb-4e48-9dc4-663c59be8f1f"
      },
      "source": [
        "import os\n",
        "from google.colab import drive\n",
        "drive.mount('/content/drive/')"
      ],
      "execution_count": 32,
      "outputs": [
        {
          "output_type": "stream",
          "text": [
            "Drive already mounted at /content/drive/; to attempt to forcibly remount, call drive.mount(\"/content/drive/\", force_remount=True).\n"
          ],
          "name": "stdout"
        }
      ]
    },
    {
      "cell_type": "code",
      "metadata": {
        "id": "cnINUdwNcOGp"
      },
      "source": [
        "os.chdir('/content/drive/MyDrive/SparkIntern')"
      ],
      "execution_count": 33,
      "outputs": []
    },
    {
      "cell_type": "markdown",
      "metadata": {
        "id": "DlYW3fDsTJPP"
      },
      "source": [
        "**Read the bitcoin dataset**"
      ]
    },
    {
      "cell_type": "code",
      "metadata": {
        "id": "Fo5C8-MSyxa_"
      },
      "source": [
        "# data = pd.read_csv(\"bitstampUSD.csv\", nrows=240000)\n",
        "data = pd.read_csv(\"prices.csv\")"
      ],
      "execution_count": 34,
      "outputs": []
    },
    {
      "cell_type": "code",
      "metadata": {
        "colab": {
          "base_uri": "https://localhost:8080/",
          "height": 204
        },
        "id": "Mo27ocplzPCk",
        "outputId": "5fe63e6b-23d4-4f2b-ba05-4d6de9808d9b"
      },
      "source": [
        "data.head()"
      ],
      "execution_count": 35,
      "outputs": [
        {
          "output_type": "execute_result",
          "data": {
            "text/html": [
              "<div>\n",
              "<style scoped>\n",
              "    .dataframe tbody tr th:only-of-type {\n",
              "        vertical-align: middle;\n",
              "    }\n",
              "\n",
              "    .dataframe tbody tr th {\n",
              "        vertical-align: top;\n",
              "    }\n",
              "\n",
              "    .dataframe thead th {\n",
              "        text-align: right;\n",
              "    }\n",
              "</style>\n",
              "<table border=\"1\" class=\"dataframe\">\n",
              "  <thead>\n",
              "    <tr style=\"text-align: right;\">\n",
              "      <th></th>\n",
              "      <th>Date</th>\n",
              "      <th>Open</th>\n",
              "      <th>High</th>\n",
              "      <th>Low</th>\n",
              "      <th>Close</th>\n",
              "      <th>Adj Close</th>\n",
              "      <th>Volume</th>\n",
              "    </tr>\n",
              "  </thead>\n",
              "  <tbody>\n",
              "    <tr>\n",
              "      <th>0</th>\n",
              "      <td>2016-06-14</td>\n",
              "      <td>17.410000</td>\n",
              "      <td>17.410000</td>\n",
              "      <td>17.410000</td>\n",
              "      <td>17.410</td>\n",
              "      <td>17.410</td>\n",
              "      <td>1.0</td>\n",
              "    </tr>\n",
              "    <tr>\n",
              "      <th>1</th>\n",
              "      <td>2016-06-15</td>\n",
              "      <td>17.490000</td>\n",
              "      <td>17.490000</td>\n",
              "      <td>17.489000</td>\n",
              "      <td>17.489</td>\n",
              "      <td>17.489</td>\n",
              "      <td>1.0</td>\n",
              "    </tr>\n",
              "    <tr>\n",
              "      <th>2</th>\n",
              "      <td>2016-06-16</td>\n",
              "      <td>17.700001</td>\n",
              "      <td>17.700001</td>\n",
              "      <td>17.254999</td>\n",
              "      <td>17.594</td>\n",
              "      <td>17.594</td>\n",
              "      <td>10.0</td>\n",
              "    </tr>\n",
              "    <tr>\n",
              "      <th>3</th>\n",
              "      <td>2016-06-17</td>\n",
              "      <td>17.420000</td>\n",
              "      <td>17.455000</td>\n",
              "      <td>17.400000</td>\n",
              "      <td>17.400</td>\n",
              "      <td>17.400</td>\n",
              "      <td>2.0</td>\n",
              "    </tr>\n",
              "    <tr>\n",
              "      <th>4</th>\n",
              "      <td>2016-06-20</td>\n",
              "      <td>17.445000</td>\n",
              "      <td>17.503000</td>\n",
              "      <td>17.445000</td>\n",
              "      <td>17.503</td>\n",
              "      <td>17.503</td>\n",
              "      <td>3.0</td>\n",
              "    </tr>\n",
              "  </tbody>\n",
              "</table>\n",
              "</div>"
            ],
            "text/plain": [
              "         Date       Open       High        Low   Close  Adj Close  Volume\n",
              "0  2016-06-14  17.410000  17.410000  17.410000  17.410     17.410     1.0\n",
              "1  2016-06-15  17.490000  17.490000  17.489000  17.489     17.489     1.0\n",
              "2  2016-06-16  17.700001  17.700001  17.254999  17.594     17.594    10.0\n",
              "3  2016-06-17  17.420000  17.455000  17.400000  17.400     17.400     2.0\n",
              "4  2016-06-20  17.445000  17.503000  17.445000  17.503     17.503     3.0"
            ]
          },
          "metadata": {
            "tags": []
          },
          "execution_count": 35
        }
      ]
    },
    {
      "cell_type": "markdown",
      "metadata": {
        "id": "Wnw8WqSwTPGh"
      },
      "source": [
        "**Checking the columns which have null values and dropping the null rows**"
      ]
    },
    {
      "cell_type": "code",
      "metadata": {
        "colab": {
          "base_uri": "https://localhost:8080/",
          "height": 204
        },
        "id": "eL_VvciXznGS",
        "outputId": "4b4aa8d4-abc9-4128-fc9b-848ecd28e1be"
      },
      "source": [
        "# data[data.columns.values] = data[data.columns.values].ffill()\n",
        "columns_to_check_for_null = ['Close']\n",
        "data.shape\n",
        "data.dropna(subset=columns_to_check_for_null, inplace=True)\n",
        "data.head()"
      ],
      "execution_count": 36,
      "outputs": [
        {
          "output_type": "execute_result",
          "data": {
            "text/html": [
              "<div>\n",
              "<style scoped>\n",
              "    .dataframe tbody tr th:only-of-type {\n",
              "        vertical-align: middle;\n",
              "    }\n",
              "\n",
              "    .dataframe tbody tr th {\n",
              "        vertical-align: top;\n",
              "    }\n",
              "\n",
              "    .dataframe thead th {\n",
              "        text-align: right;\n",
              "    }\n",
              "</style>\n",
              "<table border=\"1\" class=\"dataframe\">\n",
              "  <thead>\n",
              "    <tr style=\"text-align: right;\">\n",
              "      <th></th>\n",
              "      <th>Date</th>\n",
              "      <th>Open</th>\n",
              "      <th>High</th>\n",
              "      <th>Low</th>\n",
              "      <th>Close</th>\n",
              "      <th>Adj Close</th>\n",
              "      <th>Volume</th>\n",
              "    </tr>\n",
              "  </thead>\n",
              "  <tbody>\n",
              "    <tr>\n",
              "      <th>0</th>\n",
              "      <td>2016-06-14</td>\n",
              "      <td>17.410000</td>\n",
              "      <td>17.410000</td>\n",
              "      <td>17.410000</td>\n",
              "      <td>17.410</td>\n",
              "      <td>17.410</td>\n",
              "      <td>1.0</td>\n",
              "    </tr>\n",
              "    <tr>\n",
              "      <th>1</th>\n",
              "      <td>2016-06-15</td>\n",
              "      <td>17.490000</td>\n",
              "      <td>17.490000</td>\n",
              "      <td>17.489000</td>\n",
              "      <td>17.489</td>\n",
              "      <td>17.489</td>\n",
              "      <td>1.0</td>\n",
              "    </tr>\n",
              "    <tr>\n",
              "      <th>2</th>\n",
              "      <td>2016-06-16</td>\n",
              "      <td>17.700001</td>\n",
              "      <td>17.700001</td>\n",
              "      <td>17.254999</td>\n",
              "      <td>17.594</td>\n",
              "      <td>17.594</td>\n",
              "      <td>10.0</td>\n",
              "    </tr>\n",
              "    <tr>\n",
              "      <th>3</th>\n",
              "      <td>2016-06-17</td>\n",
              "      <td>17.420000</td>\n",
              "      <td>17.455000</td>\n",
              "      <td>17.400000</td>\n",
              "      <td>17.400</td>\n",
              "      <td>17.400</td>\n",
              "      <td>2.0</td>\n",
              "    </tr>\n",
              "    <tr>\n",
              "      <th>4</th>\n",
              "      <td>2016-06-20</td>\n",
              "      <td>17.445000</td>\n",
              "      <td>17.503000</td>\n",
              "      <td>17.445000</td>\n",
              "      <td>17.503</td>\n",
              "      <td>17.503</td>\n",
              "      <td>3.0</td>\n",
              "    </tr>\n",
              "  </tbody>\n",
              "</table>\n",
              "</div>"
            ],
            "text/plain": [
              "         Date       Open       High        Low   Close  Adj Close  Volume\n",
              "0  2016-06-14  17.410000  17.410000  17.410000  17.410     17.410     1.0\n",
              "1  2016-06-15  17.490000  17.490000  17.489000  17.489     17.489     1.0\n",
              "2  2016-06-16  17.700001  17.700001  17.254999  17.594     17.594    10.0\n",
              "3  2016-06-17  17.420000  17.455000  17.400000  17.400     17.400     2.0\n",
              "4  2016-06-20  17.445000  17.503000  17.445000  17.503     17.503     3.0"
            ]
          },
          "metadata": {
            "tags": []
          },
          "execution_count": 36
        }
      ]
    },
    {
      "cell_type": "code",
      "metadata": {
        "colab": {
          "base_uri": "https://localhost:8080/"
        },
        "id": "QglvkzWD2Dlw",
        "outputId": "3c355af5-bced-4fb5-9a8b-ec0a242304fb"
      },
      "source": [
        "data.shape"
      ],
      "execution_count": 37,
      "outputs": [
        {
          "output_type": "execute_result",
          "data": {
            "text/plain": [
              "(1245, 7)"
            ]
          },
          "metadata": {
            "tags": []
          },
          "execution_count": 37
        }
      ]
    },
    {
      "cell_type": "markdown",
      "metadata": {
        "id": "dD4PeZBXT8wN"
      },
      "source": [
        "**COnvert to datetime datatype**"
      ]
    },
    {
      "cell_type": "code",
      "metadata": {
        "colab": {
          "base_uri": "https://localhost:8080/",
          "height": 111
        },
        "id": "iDCCZdDgz6fT",
        "outputId": "e57d3571-6559-4a6a-e14e-aff5b659d548"
      },
      "source": [
        "data[\"date\"] = pd.to_datetime(data[\"Date\"],format='%Y-%m-%d', errors= \"coerce\").dt.tz_localize(None)\n",
        "data.head(2)"
      ],
      "execution_count": 38,
      "outputs": [
        {
          "output_type": "execute_result",
          "data": {
            "text/html": [
              "<div>\n",
              "<style scoped>\n",
              "    .dataframe tbody tr th:only-of-type {\n",
              "        vertical-align: middle;\n",
              "    }\n",
              "\n",
              "    .dataframe tbody tr th {\n",
              "        vertical-align: top;\n",
              "    }\n",
              "\n",
              "    .dataframe thead th {\n",
              "        text-align: right;\n",
              "    }\n",
              "</style>\n",
              "<table border=\"1\" class=\"dataframe\">\n",
              "  <thead>\n",
              "    <tr style=\"text-align: right;\">\n",
              "      <th></th>\n",
              "      <th>Date</th>\n",
              "      <th>Open</th>\n",
              "      <th>High</th>\n",
              "      <th>Low</th>\n",
              "      <th>Close</th>\n",
              "      <th>Adj Close</th>\n",
              "      <th>Volume</th>\n",
              "      <th>date</th>\n",
              "    </tr>\n",
              "  </thead>\n",
              "  <tbody>\n",
              "    <tr>\n",
              "      <th>0</th>\n",
              "      <td>2016-06-14</td>\n",
              "      <td>17.41</td>\n",
              "      <td>17.41</td>\n",
              "      <td>17.410</td>\n",
              "      <td>17.410</td>\n",
              "      <td>17.410</td>\n",
              "      <td>1.0</td>\n",
              "      <td>2016-06-14</td>\n",
              "    </tr>\n",
              "    <tr>\n",
              "      <th>1</th>\n",
              "      <td>2016-06-15</td>\n",
              "      <td>17.49</td>\n",
              "      <td>17.49</td>\n",
              "      <td>17.489</td>\n",
              "      <td>17.489</td>\n",
              "      <td>17.489</td>\n",
              "      <td>1.0</td>\n",
              "      <td>2016-06-15</td>\n",
              "    </tr>\n",
              "  </tbody>\n",
              "</table>\n",
              "</div>"
            ],
            "text/plain": [
              "         Date   Open   High     Low   Close  Adj Close  Volume       date\n",
              "0  2016-06-14  17.41  17.41  17.410  17.410     17.410     1.0 2016-06-14\n",
              "1  2016-06-15  17.49  17.49  17.489  17.489     17.489     1.0 2016-06-15"
            ]
          },
          "metadata": {
            "tags": []
          },
          "execution_count": 38
        }
      ]
    },
    {
      "cell_type": "code",
      "metadata": {
        "colab": {
          "base_uri": "https://localhost:8080/"
        },
        "id": "Bd_1G4nyfyhd",
        "outputId": "79f5b81e-e877-44a9-9088-328025ba568a"
      },
      "source": [
        "data.info()"
      ],
      "execution_count": 39,
      "outputs": [
        {
          "output_type": "stream",
          "text": [
            "<class 'pandas.core.frame.DataFrame'>\n",
            "Int64Index: 1245 entries, 0 to 1255\n",
            "Data columns (total 8 columns):\n",
            " #   Column     Non-Null Count  Dtype         \n",
            "---  ------     --------------  -----         \n",
            " 0   Date       1245 non-null   object        \n",
            " 1   Open       1245 non-null   float64       \n",
            " 2   High       1245 non-null   float64       \n",
            " 3   Low        1245 non-null   float64       \n",
            " 4   Close      1245 non-null   float64       \n",
            " 5   Adj Close  1245 non-null   float64       \n",
            " 6   Volume     1245 non-null   float64       \n",
            " 7   date       1245 non-null   datetime64[ns]\n",
            "dtypes: datetime64[ns](1), float64(6), object(1)\n",
            "memory usage: 87.5+ KB\n"
          ],
          "name": "stdout"
        }
      ]
    },
    {
      "cell_type": "markdown",
      "metadata": {
        "id": "VOv7zEvXUmGt"
      },
      "source": [
        "**Create index for grouper and calculate close price by one hour frequency**"
      ]
    },
    {
      "cell_type": "code",
      "metadata": {
        "id": "be3deyYn1xqT"
      },
      "source": [
        "data['time'] = data['date']\n",
        "data.index = data['time']\n",
        "\n",
        "crypto_usd_grouped = data.groupby(pd.Grouper(key=\"time\", freq=\"1D\")).agg(\n",
        "    closed_price_by_day = ('Close', np.mean)\n",
        ")"
      ],
      "execution_count": 40,
      "outputs": []
    },
    {
      "cell_type": "code",
      "metadata": {
        "colab": {
          "base_uri": "https://localhost:8080/",
          "height": 235
        },
        "id": "-1xlfTdb2t3B",
        "outputId": "8a916412-b0b2-4cd0-8fe4-2b36593510d4"
      },
      "source": [
        "crypto_usd_grouped.head()"
      ],
      "execution_count": 41,
      "outputs": [
        {
          "output_type": "execute_result",
          "data": {
            "text/html": [
              "<div>\n",
              "<style scoped>\n",
              "    .dataframe tbody tr th:only-of-type {\n",
              "        vertical-align: middle;\n",
              "    }\n",
              "\n",
              "    .dataframe tbody tr th {\n",
              "        vertical-align: top;\n",
              "    }\n",
              "\n",
              "    .dataframe thead th {\n",
              "        text-align: right;\n",
              "    }\n",
              "</style>\n",
              "<table border=\"1\" class=\"dataframe\">\n",
              "  <thead>\n",
              "    <tr style=\"text-align: right;\">\n",
              "      <th></th>\n",
              "      <th>closed_price_by_day</th>\n",
              "    </tr>\n",
              "    <tr>\n",
              "      <th>time</th>\n",
              "      <th></th>\n",
              "    </tr>\n",
              "  </thead>\n",
              "  <tbody>\n",
              "    <tr>\n",
              "      <th>2016-06-14</th>\n",
              "      <td>17.410</td>\n",
              "    </tr>\n",
              "    <tr>\n",
              "      <th>2016-06-15</th>\n",
              "      <td>17.489</td>\n",
              "    </tr>\n",
              "    <tr>\n",
              "      <th>2016-06-16</th>\n",
              "      <td>17.594</td>\n",
              "    </tr>\n",
              "    <tr>\n",
              "      <th>2016-06-17</th>\n",
              "      <td>17.400</td>\n",
              "    </tr>\n",
              "    <tr>\n",
              "      <th>2016-06-18</th>\n",
              "      <td>NaN</td>\n",
              "    </tr>\n",
              "  </tbody>\n",
              "</table>\n",
              "</div>"
            ],
            "text/plain": [
              "            closed_price_by_day\n",
              "time                           \n",
              "2016-06-14               17.410\n",
              "2016-06-15               17.489\n",
              "2016-06-16               17.594\n",
              "2016-06-17               17.400\n",
              "2016-06-18                  NaN"
            ]
          },
          "metadata": {
            "tags": []
          },
          "execution_count": 41
        }
      ]
    },
    {
      "cell_type": "markdown",
      "metadata": {
        "id": "2H1yiDj8U8o3"
      },
      "source": [
        "**Method to check the upward and down trend**"
      ]
    },
    {
      "cell_type": "code",
      "metadata": {
        "id": "Z6ol-WfMFfhX"
      },
      "source": [
        "def movement_classifier(x):\n",
        "    try:\n",
        "        if x >= 0 :\n",
        "            return 1\n",
        "        else:\n",
        "            return 0\n",
        "    except:\n",
        "        print(x)"
      ],
      "execution_count": 42,
      "outputs": []
    },
    {
      "cell_type": "markdown",
      "metadata": {
        "id": "4CvWWFGPVLcS"
      },
      "source": [
        "**Calculate the price trend**"
      ]
    },
    {
      "cell_type": "code",
      "metadata": {
        "colab": {
          "base_uri": "https://localhost:8080/",
          "height": 252
        },
        "id": "tQ1scsnUvgus",
        "outputId": "093cc248-0608-42e7-aefa-0190a6130a72"
      },
      "source": [
        "# Drop null rows\n",
        "crypto_usd_grouped.dropna(subset=['closed_price_by_day'], inplace=True)\n",
        "# Calculate the difference between previous row\n",
        "crypto_usd_grouped[\"price_diff\"] = crypto_usd_grouped[\"closed_price_by_day\"].diff()\n",
        "# Calculate price movement\n",
        "crypto_usd_grouped[\"movement\"] = crypto_usd_grouped[\"price_diff\"].progress_apply(lambda x:movement_classifier(x))\n",
        "crypto_usd_grouped.head()"
      ],
      "execution_count": 43,
      "outputs": [
        {
          "output_type": "stream",
          "text": [
            "100%|██████████| 1245/1245 [00:00<00:00, 302771.99it/s]\n"
          ],
          "name": "stderr"
        },
        {
          "output_type": "execute_result",
          "data": {
            "text/html": [
              "<div>\n",
              "<style scoped>\n",
              "    .dataframe tbody tr th:only-of-type {\n",
              "        vertical-align: middle;\n",
              "    }\n",
              "\n",
              "    .dataframe tbody tr th {\n",
              "        vertical-align: top;\n",
              "    }\n",
              "\n",
              "    .dataframe thead th {\n",
              "        text-align: right;\n",
              "    }\n",
              "</style>\n",
              "<table border=\"1\" class=\"dataframe\">\n",
              "  <thead>\n",
              "    <tr style=\"text-align: right;\">\n",
              "      <th></th>\n",
              "      <th>closed_price_by_day</th>\n",
              "      <th>price_diff</th>\n",
              "      <th>movement</th>\n",
              "    </tr>\n",
              "    <tr>\n",
              "      <th>time</th>\n",
              "      <th></th>\n",
              "      <th></th>\n",
              "      <th></th>\n",
              "    </tr>\n",
              "  </thead>\n",
              "  <tbody>\n",
              "    <tr>\n",
              "      <th>2016-06-14</th>\n",
              "      <td>17.410</td>\n",
              "      <td>NaN</td>\n",
              "      <td>0</td>\n",
              "    </tr>\n",
              "    <tr>\n",
              "      <th>2016-06-15</th>\n",
              "      <td>17.489</td>\n",
              "      <td>0.079</td>\n",
              "      <td>1</td>\n",
              "    </tr>\n",
              "    <tr>\n",
              "      <th>2016-06-16</th>\n",
              "      <td>17.594</td>\n",
              "      <td>0.105</td>\n",
              "      <td>1</td>\n",
              "    </tr>\n",
              "    <tr>\n",
              "      <th>2016-06-17</th>\n",
              "      <td>17.400</td>\n",
              "      <td>-0.194</td>\n",
              "      <td>0</td>\n",
              "    </tr>\n",
              "    <tr>\n",
              "      <th>2016-06-20</th>\n",
              "      <td>17.503</td>\n",
              "      <td>0.103</td>\n",
              "      <td>1</td>\n",
              "    </tr>\n",
              "  </tbody>\n",
              "</table>\n",
              "</div>"
            ],
            "text/plain": [
              "            closed_price_by_day  price_diff  movement\n",
              "time                                                 \n",
              "2016-06-14               17.410         NaN         0\n",
              "2016-06-15               17.489       0.079         1\n",
              "2016-06-16               17.594       0.105         1\n",
              "2016-06-17               17.400      -0.194         0\n",
              "2016-06-20               17.503       0.103         1"
            ]
          },
          "metadata": {
            "tags": []
          },
          "execution_count": 43
        }
      ]
    },
    {
      "cell_type": "code",
      "metadata": {
        "colab": {
          "base_uri": "https://localhost:8080/"
        },
        "id": "pa53kRjmxVxa",
        "outputId": "d43b710a-09ee-48b4-d491-d0bcac62c961"
      },
      "source": [
        "crypto_usd_grouped.shape"
      ],
      "execution_count": 44,
      "outputs": [
        {
          "output_type": "execute_result",
          "data": {
            "text/plain": [
              "(1245, 3)"
            ]
          },
          "metadata": {
            "tags": []
          },
          "execution_count": 44
        }
      ]
    },
    {
      "cell_type": "markdown",
      "metadata": {
        "id": "lWOrnJ-lVj-A"
      },
      "source": [
        "**Save data for future use**"
      ]
    },
    {
      "cell_type": "code",
      "metadata": {
        "id": "Mrj7Ag_NvAD2"
      },
      "source": [
        "os.chdir(\"/content/drive/MyDrive/SparkIntern\")\n",
        "crypto_usd_grouped.to_csv(\"price_processed_data.csv\")"
      ],
      "execution_count": 45,
      "outputs": []
    },
    {
      "cell_type": "markdown",
      "metadata": {
        "id": "53yWtFIhVpLi"
      },
      "source": [
        "**Merge sentiment and bitcoin prices data**"
      ]
    },
    {
      "cell_type": "code",
      "metadata": {
        "id": "ryxIx5woHMr4"
      },
      "source": [
        "# Run sentiment_preprocessing notebook to generate \"twitter_sentiments_hourly_processed_data.csv\" file\n",
        "data_sentiments = pd.read_csv(\"sentiments_processed_data.csv\")\n",
        "data_sentiments[\"time\"] = pd.to_datetime(data_sentiments[\"time\"], errors=\"coerce\")\n",
        "data_bitcoin = pd.read_csv(\"price_processed_data.csv\")\n",
        "data_bitcoin[\"time\"] = pd.to_datetime(data_bitcoin[\"time\"], errors=\"coerce\")\n",
        "merged_data = pd.merge(data_bitcoin, data_sentiments, on='time')"
      ],
      "execution_count": 46,
      "outputs": []
    },
    {
      "cell_type": "markdown",
      "metadata": {
        "id": "8SIbzSbCV0Cv"
      },
      "source": [
        "**Save data for future use**"
      ]
    },
    {
      "cell_type": "code",
      "metadata": {
        "id": "MhH_JH7TH1AE",
        "colab": {
          "base_uri": "https://localhost:8080/"
        },
        "outputId": "8d65593c-496d-4501-daa0-8a772d8018f3"
      },
      "source": [
        "# Final features to train the models\n",
        "merged_data.to_csv(\"merged_price_and_sentiments_data.csv\")\n",
        "merged_data.columns"
      ],
      "execution_count": 47,
      "outputs": [
        {
          "output_type": "execute_result",
          "data": {
            "text/plain": [
              "Index(['time', 'closed_price_by_day', 'price_diff', 'movement',\n",
              "       'Daily_Weight_mean_by_day', 'Daily_Weight_count_by_day',\n",
              "       'blob_sent_mean_by_day', 'subjectivity_mean_by_day',\n",
              "       'vader_sent_mean_by_day', 'news_diff', 'blob_sent_mean_by_day_diff',\n",
              "       'vader_sent_mean_by_day_diff', 'news_movement', 'blob_sent_movement',\n",
              "       'vader_sent_movement'],\n",
              "      dtype='object')"
            ]
          },
          "metadata": {
            "tags": []
          },
          "execution_count": 47
        }
      ]
    },
    {
      "cell_type": "code",
      "metadata": {
        "colab": {
          "base_uri": "https://localhost:8080/",
          "height": 309
        },
        "id": "ufJMPTD_ZpZt",
        "outputId": "ee4f6503-e566-4ad0-873d-df86b51b1b80"
      },
      "source": [
        "merged_data.head()"
      ],
      "execution_count": 48,
      "outputs": [
        {
          "output_type": "execute_result",
          "data": {
            "text/html": [
              "<div>\n",
              "<style scoped>\n",
              "    .dataframe tbody tr th:only-of-type {\n",
              "        vertical-align: middle;\n",
              "    }\n",
              "\n",
              "    .dataframe tbody tr th {\n",
              "        vertical-align: top;\n",
              "    }\n",
              "\n",
              "    .dataframe thead th {\n",
              "        text-align: right;\n",
              "    }\n",
              "</style>\n",
              "<table border=\"1\" class=\"dataframe\">\n",
              "  <thead>\n",
              "    <tr style=\"text-align: right;\">\n",
              "      <th></th>\n",
              "      <th>time</th>\n",
              "      <th>closed_price_by_day</th>\n",
              "      <th>price_diff</th>\n",
              "      <th>movement</th>\n",
              "      <th>Daily_Weight_mean_by_day</th>\n",
              "      <th>Daily_Weight_count_by_day</th>\n",
              "      <th>blob_sent_mean_by_day</th>\n",
              "      <th>subjectivity_mean_by_day</th>\n",
              "      <th>vader_sent_mean_by_day</th>\n",
              "      <th>news_diff</th>\n",
              "      <th>blob_sent_mean_by_day_diff</th>\n",
              "      <th>vader_sent_mean_by_day_diff</th>\n",
              "      <th>news_movement</th>\n",
              "      <th>blob_sent_movement</th>\n",
              "      <th>vader_sent_movement</th>\n",
              "    </tr>\n",
              "  </thead>\n",
              "  <tbody>\n",
              "    <tr>\n",
              "      <th>0</th>\n",
              "      <td>2016-06-14</td>\n",
              "      <td>17.410</td>\n",
              "      <td>NaN</td>\n",
              "      <td>0</td>\n",
              "      <td>0.0</td>\n",
              "      <td>212</td>\n",
              "      <td>0.079657</td>\n",
              "      <td>0.408165</td>\n",
              "      <td>-0.048051</td>\n",
              "      <td>-21.0</td>\n",
              "      <td>0.009086</td>\n",
              "      <td>-0.046158</td>\n",
              "      <td>0</td>\n",
              "      <td>1</td>\n",
              "      <td>0</td>\n",
              "    </tr>\n",
              "    <tr>\n",
              "      <th>1</th>\n",
              "      <td>2016-06-15</td>\n",
              "      <td>17.489</td>\n",
              "      <td>0.079</td>\n",
              "      <td>1</td>\n",
              "      <td>0.0</td>\n",
              "      <td>173</td>\n",
              "      <td>0.089268</td>\n",
              "      <td>0.477367</td>\n",
              "      <td>0.012755</td>\n",
              "      <td>-39.0</td>\n",
              "      <td>0.009612</td>\n",
              "      <td>0.060806</td>\n",
              "      <td>0</td>\n",
              "      <td>1</td>\n",
              "      <td>1</td>\n",
              "    </tr>\n",
              "    <tr>\n",
              "      <th>2</th>\n",
              "      <td>2016-06-16</td>\n",
              "      <td>17.594</td>\n",
              "      <td>0.105</td>\n",
              "      <td>1</td>\n",
              "      <td>0.0</td>\n",
              "      <td>201</td>\n",
              "      <td>0.091617</td>\n",
              "      <td>0.419953</td>\n",
              "      <td>-0.101170</td>\n",
              "      <td>28.0</td>\n",
              "      <td>0.002349</td>\n",
              "      <td>-0.113926</td>\n",
              "      <td>1</td>\n",
              "      <td>1</td>\n",
              "      <td>0</td>\n",
              "    </tr>\n",
              "    <tr>\n",
              "      <th>3</th>\n",
              "      <td>2016-06-17</td>\n",
              "      <td>17.400</td>\n",
              "      <td>-0.194</td>\n",
              "      <td>0</td>\n",
              "      <td>0.0</td>\n",
              "      <td>193</td>\n",
              "      <td>0.065786</td>\n",
              "      <td>0.426227</td>\n",
              "      <td>0.014444</td>\n",
              "      <td>-8.0</td>\n",
              "      <td>-0.025831</td>\n",
              "      <td>0.115614</td>\n",
              "      <td>0</td>\n",
              "      <td>0</td>\n",
              "      <td>1</td>\n",
              "    </tr>\n",
              "    <tr>\n",
              "      <th>4</th>\n",
              "      <td>2016-06-20</td>\n",
              "      <td>17.503</td>\n",
              "      <td>0.103</td>\n",
              "      <td>1</td>\n",
              "      <td>0.0</td>\n",
              "      <td>197</td>\n",
              "      <td>0.069862</td>\n",
              "      <td>0.430430</td>\n",
              "      <td>-0.042131</td>\n",
              "      <td>-35.0</td>\n",
              "      <td>0.001532</td>\n",
              "      <td>-0.049915</td>\n",
              "      <td>0</td>\n",
              "      <td>1</td>\n",
              "      <td>0</td>\n",
              "    </tr>\n",
              "  </tbody>\n",
              "</table>\n",
              "</div>"
            ],
            "text/plain": [
              "        time  closed_price_by_day  ...  blob_sent_movement  vader_sent_movement\n",
              "0 2016-06-14               17.410  ...                   1                    0\n",
              "1 2016-06-15               17.489  ...                   1                    1\n",
              "2 2016-06-16               17.594  ...                   1                    0\n",
              "3 2016-06-17               17.400  ...                   0                    1\n",
              "4 2016-06-20               17.503  ...                   1                    0\n",
              "\n",
              "[5 rows x 15 columns]"
            ]
          },
          "metadata": {
            "tags": []
          },
          "execution_count": 48
        }
      ]
    }
  ]
}